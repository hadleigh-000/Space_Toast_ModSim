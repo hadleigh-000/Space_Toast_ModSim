{
 "cells": [
  {
   "cell_type": "code",
   "execution_count": 9,
   "metadata": {
    "collapsed": true
   },
   "outputs": [],
   "source": [
    "from modsim import *\n",
    "%matplotlib inline\n",
    "import matplotlib.pyplot as plt\n",
    "\n"
   ]
  },
  {
   "cell_type": "markdown",
   "metadata": {},
   "source": [
    "http://www.pveducation.org/pvcdrom/2-properties-sunlight/solar-radiation-space"
   ]
  },
  {
   "cell_type": "code",
   "execution_count": 10,
   "metadata": {
    "collapsed": true
   },
   "outputs": [],
   "source": [
    "degrees= UNITS.degrees"
   ]
  },
  {
   "cell_type": "code",
   "execution_count": 11,
   "metadata": {},
   "outputs": [
    {
     "data": {
      "text/plain": [
       "6.673e-20"
      ]
     },
     "execution_count": 11,
     "metadata": {},
     "output_type": "execute_result"
    }
   ],
   "source": [
    "mkm= 1/1000\n",
    "\n",
    "sechour= (1/60)**2 \n",
    "\n",
    "mass_sun= 1.989e30 \n",
    "G= 6.673e-11 * mkm**3 \n",
    "mass_toast= 1\n",
    "S_B_const= 5.67e-8 \n",
    "temp_S= 5772 \n",
    "area_t= .01 *mkm**2\n",
    "r_s= 695770 *1000 *mkm\n",
    "Pow_s= 3.9e26 \n",
    "Q_b= .008/273 \n",
    "\n",
    "\n",
    "\n",
    "\n",
    "num_G = G* mass_sun   \n",
    "\n",
    "num_G\n",
    "\n",
    "dist_init= 1e10\n",
    "\n",
    "VXinit= sqrt(2*num_G/dist_init)\n",
    "\n",
    "\n",
    "\n",
    "G\n",
    " \n",
    "\n",
    "#I think these are all the equations and constants we need. I found a specific heat for bread that was in kg and C, \n",
    "#which I think I converted into Kelvin but it's a bit sketchy. I'm also not sure about the area of the sunward facing \n",
    "#toast side, but we can look back at that. "
   ]
  },
  {
   "cell_type": "code",
   "execution_count": 12,
   "metadata": {
    "collapsed": true
   },
   "outputs": [],
   "source": [
    "\n",
    "condition= Condition(x0= 0, y0= -1e14, velocity= 200, angle = 20*degrees, duration= 1e10, T0= 0 )"
   ]
  },
  {
   "cell_type": "code",
   "execution_count": 13,
   "metadata": {
    "collapsed": true
   },
   "outputs": [],
   "source": [
    "#I'm not sure I'm doing this right, I'm mostly copying this from chapter 10 with the intro to vectors and the baseball. \n",
    "\n",
    "def make_system(condition):\n",
    "    unpack(condition)\n",
    "    \n",
    "    theta = np.deg2rad(angle)\n",
    "    \n",
    "    \n",
    "    \n",
    "    vx, vy = pol2cart(theta, velocity)\n",
    "    \n",
    "    init= State(x=x0, y=y0, vx= vx, vy= vy)\n",
    "    area_toast = area_t \n",
    "    \n",
    "    ts= linspace(0, duration, 100)\n",
    "    \n",
    "    return System(init= init, mass= mass_toast, area_t= area_t, T= T0, Q_b= Q_b, ts= ts)\n",
    "\n",
    "system= make_system(condition) \n",
    "\n",
    "\n"
   ]
  },
  {
   "cell_type": "code",
   "execution_count": 17,
   "metadata": {},
   "outputs": [
    {
     "ename": "NameError",
     "evalue": "name 'xdir' is not defined",
     "output_type": "error",
     "traceback": [
      "\u001b[1;31m---------------------------------------------------------------------------\u001b[0m",
      "\u001b[1;31mNameError\u001b[0m                                 Traceback (most recent call last)",
      "\u001b[1;32m<ipython-input-17-83e8ee6f9bcd>\u001b[0m in \u001b[0;36m<module>\u001b[1;34m()\u001b[0m\n\u001b[0;32m     32\u001b[0m \u001b[1;33m\u001b[0m\u001b[0m\n\u001b[0;32m     33\u001b[0m \u001b[1;33m\u001b[0m\u001b[0m\n\u001b[1;32m---> 34\u001b[1;33m \u001b[0mslope_func\u001b[0m\u001b[1;33m(\u001b[0m\u001b[0msystem\u001b[0m\u001b[1;33m.\u001b[0m\u001b[0minit\u001b[0m\u001b[1;33m,\u001b[0m\u001b[1;36m1\u001b[0m\u001b[1;33m,\u001b[0m\u001b[0msystem\u001b[0m\u001b[1;33m)\u001b[0m\u001b[1;33m\u001b[0m\u001b[0m\n\u001b[0m\u001b[0;32m     35\u001b[0m \u001b[1;33m\u001b[0m\u001b[0m\n",
      "\u001b[1;32m<ipython-input-17-83e8ee6f9bcd>\u001b[0m in \u001b[0;36mslope_func\u001b[1;34m(state, t, system)\u001b[0m\n\u001b[0;32m     11\u001b[0m \u001b[1;33m\u001b[0m\u001b[0m\n\u001b[0;32m     12\u001b[0m \u001b[1;33m\u001b[0m\u001b[0m\n\u001b[1;32m---> 13\u001b[1;33m     \u001b[0ma_grav\u001b[0m\u001b[1;33m=\u001b[0m \u001b[0mVector\u001b[0m\u001b[1;33m(\u001b[0m\u001b[0mxdir\u001b[0m\u001b[1;33m,\u001b[0m \u001b[0mydir\u001b[0m\u001b[1;33m)\u001b[0m \u001b[1;33m*\u001b[0m\u001b[1;33m(\u001b[0m\u001b[1;33m(\u001b[0m\u001b[0mF_grav\u001b[0m\u001b[1;33m)\u001b[0m\u001b[1;33m/\u001b[0m\u001b[0mmass_toast\u001b[0m\u001b[1;33m)\u001b[0m\u001b[1;33m\u001b[0m\u001b[0m\n\u001b[0m\u001b[0;32m     14\u001b[0m     \u001b[0ma_cent\u001b[0m\u001b[1;33m=\u001b[0m \u001b[0mVector\u001b[0m\u001b[1;33m(\u001b[0m\u001b[0mwx\u001b[0m\u001b[1;33m,\u001b[0m \u001b[0mwy\u001b[0m\u001b[1;33m)\u001b[0m \u001b[1;33m*\u001b[0m \u001b[1;33m(\u001b[0m\u001b[1;33m(\u001b[0m\u001b[0mwx\u001b[0m\u001b[1;33m**\u001b[0m\u001b[1;36m2\u001b[0m\u001b[1;33m+\u001b[0m\u001b[0mwy\u001b[0m\u001b[1;33m**\u001b[0m\u001b[1;36m2\u001b[0m\u001b[1;33m)\u001b[0m \u001b[1;33m/\u001b[0m \u001b[1;33m(\u001b[0m\u001b[0msqrt\u001b[0m\u001b[1;33m(\u001b[0m\u001b[0mx\u001b[0m\u001b[1;33m**\u001b[0m\u001b[1;36m2\u001b[0m\u001b[1;33m+\u001b[0m\u001b[0my\u001b[0m\u001b[1;33m**\u001b[0m\u001b[1;36m2\u001b[0m\u001b[1;33m)\u001b[0m\u001b[1;33m)\u001b[0m\u001b[1;33m)\u001b[0m\u001b[1;33m\u001b[0m\u001b[0m\n\u001b[0;32m     15\u001b[0m     \u001b[1;31m#print(a_cent, a_grav)\u001b[0m\u001b[1;33m\u001b[0m\u001b[1;33m\u001b[0m\u001b[0m\n",
      "\u001b[1;31mNameError\u001b[0m: name 'xdir' is not defined"
     ]
    }
   ],
   "source": [
    "def slope_func(state, t, system):\n",
    "    x, y, vx, vy = state\n",
    "    \n",
    "    unpack(system)\n",
    "    P= Vector(-x, -y) \n",
    "    V= Vector(vx, vy) \n",
    "    tan_vect= Vector((-y/ sqrt(x**2 + y**2)), (x/ sqrt(x**2 + y**2)))\n",
    "    dist= sqrt(x**2+y**2)\n",
    "\n",
    "    F_grav= G* mass_sun *mass_toast/ dist\n",
    "    \n",
    "    \n",
    "    a_grav= Vector(xdir, ydir) *((F_grav)/mass_toast) \n",
    "    a_cent= Vector(wx, wy) * ((wx**2+wy**2) / (sqrt(x**2+y**2)))  \n",
    "    #print(a_cent, a_grav)\n",
    "    \n",
    "    ax= a_grav.x + a_cent.x\n",
    "    ay= a_grav.y + a_cent.y\n",
    "    \n",
    "    a= Vector(ax, ay)\n",
    "\n",
    "    \n",
    "    \n",
    "    rad_on_toast= t * Pow_s * r_s**2/ P.mag**2 \n",
    "    temp_toast= rad_on_toast/ Q_b / mass_toast \n",
    "    \n",
    "    \n",
    "    return vx, vy, ax, ay\n",
    "    \n",
    "    \n",
    "                     \n",
    "    \n",
    "    \n",
    "slope_func(system.init,1,system)\n",
    "    "
   ]
  },
  {
   "cell_type": "code",
   "execution_count": null,
   "metadata": {},
   "outputs": [],
   "source": [
    "\n",
    "run_odeint(system, slope_func)"
   ]
  },
  {
   "cell_type": "code",
   "execution_count": null,
   "metadata": {
    "scrolled": true
   },
   "outputs": [],
   "source": [
    "system.results"
   ]
  },
  {
   "cell_type": "code",
   "execution_count": null,
   "metadata": {
    "scrolled": true
   },
   "outputs": [],
   "source": [
    "plot(system.results.x, system.results.y, \"bo\")\n",
    "#plt.axis([-6e10, 6e10, -1.2e10, 1.2e10])"
   ]
  },
  {
   "cell_type": "code",
   "execution_count": null,
   "metadata": {},
   "outputs": [],
   "source": [
    "A= Vector(1, 3)\n",
    "\n",
    "B= Vector(2, -6)\n",
    "\n",
    "A.proj(B.hat())"
   ]
  },
  {
   "cell_type": "code",
   "execution_count": null,
   "metadata": {
    "collapsed": true
   },
   "outputs": [],
   "source": []
  },
  {
   "cell_type": "code",
   "execution_count": null,
   "metadata": {
    "collapsed": true,
    "scrolled": true
   },
   "outputs": [],
   "source": []
  },
  {
   "cell_type": "code",
   "execution_count": null,
   "metadata": {
    "collapsed": true
   },
   "outputs": [],
   "source": []
  },
  {
   "cell_type": "code",
   "execution_count": null,
   "metadata": {
    "collapsed": true
   },
   "outputs": [],
   "source": []
  },
  {
   "cell_type": "code",
   "execution_count": null,
   "metadata": {
    "collapsed": true
   },
   "outputs": [],
   "source": []
  }
 ],
 "metadata": {
  "kernelspec": {
   "display_name": "Python 3",
   "language": "python",
   "name": "python3"
  },
  "language_info": {
   "codemirror_mode": {
    "name": "ipython",
    "version": 3
   },
   "file_extension": ".py",
   "mimetype": "text/x-python",
   "name": "python",
   "nbconvert_exporter": "python",
   "pygments_lexer": "ipython3",
   "version": "3.6.1"
  }
 },
 "nbformat": 4,
 "nbformat_minor": 2
}
