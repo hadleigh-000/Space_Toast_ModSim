{
 "cells": [
  {
   "cell_type": "code",
   "execution_count": 150,
   "metadata": {
    "collapsed": true
   },
   "outputs": [],
   "source": [
    "from modsim import *"
   ]
  },
  {
   "cell_type": "markdown",
   "metadata": {},
   "source": [
    "http://www.pveducation.org/pvcdrom/2-properties-sunlight/solar-radiation-space"
   ]
  },
  {
   "cell_type": "code",
   "execution_count": 151,
   "metadata": {
    "collapsed": true
   },
   "outputs": [],
   "source": [
    "kg= UNITS.kg\n",
    "m= UNITS.m\n",
    "N= UNITS.N\n",
    "W= UNITS.W\n",
    "K= UNITS.K\n",
    "j= UNITS.joules\n",
    "s= UNITS.seconds\n",
    "degrees= UNITS.degrees\n"
   ]
  },
  {
   "cell_type": "code",
   "execution_count": 152,
   "metadata": {},
   "outputs": [
    {
     "data": {
      "text/html": [
       "6.6362985e+18 meter<sup>2</sup> newton"
      ],
      "text/latex": [
       "$6.6362985e+18 meter^{2} \\cdot newton$"
      ],
      "text/plain": [
       "<Quantity(6.6362985e+18, 'meter ** 2 * newton')>"
      ]
     },
     "execution_count": 152,
     "metadata": {},
     "output_type": "execute_result"
    }
   ],
   "source": [
    "mass_sun= 1.989e30 *kg \n",
    "G= 6.673e-11* N *m**2 / kg**2\n",
    "mass_toast= .05*kg\n",
    "S_B_const= 5.67e-8 * W/m**2/K**4\n",
    "temp_S= 5772 *K\n",
    "area_t= .01 *m \n",
    "r_s= 695770 *1000*m \n",
    "Pow_s= 3.9e26 * W \n",
    "Q_b= .008/273 * j / (kg * K)\n",
    "\n",
    "power_sun = S_B_const * temp_S *4 *pi *r_s**2 \n",
    "\n",
    " \n",
    "\n",
    "num_G = G* mass_sun *mass_toast   \n",
    "\n",
    "num_G\n",
    "\n",
    "\n",
    " \n",
    "\n",
    "#I think these are all the equations and constants we need. I found a specific heat for bread that was in kg and C, \n",
    "#which I think I converted into Kelvin but it's a bit sketchy. I'm also not sure about the area of the sunward facing \n",
    "#toast side, but we can look back at that. "
   ]
  },
  {
   "cell_type": "code",
   "execution_count": 153,
   "metadata": {},
   "outputs": [],
   "source": [
    "\n",
    "condition= Condition(x0= 1e30*m, y0= 0*m, velocity= 500*m/s, angle = 40*degrees, duration= 10000*s, T0= 0*K )"
   ]
  },
  {
   "cell_type": "code",
   "execution_count": 161,
   "metadata": {},
   "outputs": [],
   "source": [
    "#I'm not sure I'm doing this right, I'm mostly copying this from chapter 10 with the intro to vectors and the baseball. \n",
    "\n",
    "def make_system(condition):\n",
    "    unpack(condition)\n",
    "    \n",
    "    theta = np.deg2rad(angle)\n",
    "    \n",
    "    vx, vy = pol2cart(theta, velocity)\n",
    "    \n",
    "    init= State(x=x0, y=y0, vx= vx, vy= vy)\n",
    "    area_toast = area_t \n",
    "    \n",
    "    ts= linspace(0, duration, 101)\n",
    "    \n",
    "    return System(init= init, mass= mass_toast, area_t= area_t, T= T0, Q_b= Q_b, ts= ts)\n",
    "\n",
    "system= make_system(condition)\n",
    "\n"
   ]
  },
  {
   "cell_type": "code",
   "execution_count": 176,
   "metadata": {},
   "outputs": [
    {
     "data": {
      "text/plain": [
       "(<Quantity(383.022221559489, 'meter / second')>,\n",
       " <Quantity(321.3938048432696, 'meter / second')>,\n",
       " <Quantity(1.467060222083663e+35, 'newton / kilogram')>,\n",
       " <Quantity(0.0, 'newton / kilogram')>)"
      ]
     },
     "execution_count": 176,
     "metadata": {},
     "output_type": "execute_result"
    }
   ],
   "source": [
    "def slope_func(state, t, system):\n",
    "    x, y, vx, vy = state\n",
    "    \n",
    "    unpack(system)\n",
    "    P= Vector(x, y) *m\n",
    "    V= Vector(vx, vy) *m/s\n",
    "    Tangent_dir= Vector(x, -y) \n",
    "    w= V.proj(Tangent_dir) * Tangent_dir.hat() * m/s \n",
    "\n",
    "    F_grav= num_G / P.mag **2 * (P/P.mag) \n",
    "    F_cent= w**2  *mass_toast / P.mag  * Tangent_dir.hat()\n",
    "    \n",
    "    grav_theta= P.angle\n",
    "    \n",
    "    a_grav= (F_grav/mass_toast) * P.hat() *m**2\n",
    "    a_cent= (F_cent/mass_toast /m) *Tangent_dir.hat() *m**2\n",
    "    \n",
    "    \n",
    "    a1= a_grav + a_cent\n",
    "    \n",
    "    a= Vector(a1[0], a1[1])\n",
    "\n",
    "    \n",
    "    \n",
    "    rad_on_toast= t * Pow_s * r_s**2/ P.mag**2 \n",
    "    temp_toast= rad_on_toast/ Q_b / mass_toast \n",
    "    \n",
    "    \n",
    "    return vx, vy, a.x, a.y\n",
    "    \n",
    "    \n",
    "    \n",
    "slope_func(init,1,system)\n",
    "    "
   ]
  },
  {
   "cell_type": "code",
   "execution_count": 177,
   "metadata": {},
   "outputs": [
    {
     "name": "stderr",
     "output_type": "stream",
     "text": [
      "C:\\ProgramData\\Miniconda3\\lib\\site-packages\\scipy\\integrate\\odepack.py:218: ODEintWarning: Excess work done on this call (perhaps wrong Dfun type). Run with full_output = 1 to get quantitative information.\n",
      "  warnings.warn(warning_msg, ODEintWarning)\n"
     ]
    }
   ],
   "source": [
    "run_odeint(system, slope_func)"
   ]
  },
  {
   "cell_type": "code",
   "execution_count": 178,
   "metadata": {},
   "outputs": [
    {
     "data": {
      "text/plain": [
       "<bound method NDFrame.head of                      x              y             vx             vy\n",
       "0.0       1.000000e+30   0.000000e+00   3.830222e+02   3.213938e+02\n",
       "100.0     1.000000e+30   8.390995e-31   2.841586e+11   3.213938e+02\n",
       "200.0    7.561849e-312  7.562043e-312  7.562062e-312  7.372954e-315\n",
       "300.0    2.964394e-323  7.562022e-312  7.562429e-312  7.372954e-315\n",
       "400.0    2.964394e-323  7.562043e-312  7.562063e-312  7.562023e-312\n",
       "500.0    7.562043e-312  7.562043e-312  7.562043e-312  7.562043e-312\n",
       "600.0    7.562043e-312  7.561867e-312  7.561834e-312  7.562480e-312\n",
       "700.0    7.562025e-312  7.562043e-312  7.562023e-312  7.562043e-312\n",
       "800.0    7.561834e-312  7.561664e-312  7.562484e-312  7.562485e-312\n",
       "900.0    7.562485e-312  7.562476e-312  7.562487e-312  7.562487e-312\n",
       "1000.0   7.562488e-312  7.562488e-312  7.562487e-312  7.562488e-312\n",
       "1100.0   7.562487e-312  7.562488e-312  7.562488e-312  7.562488e-312\n",
       "1200.0   7.562487e-312  7.562488e-312  7.562488e-312  7.562484e-312\n",
       "1300.0   7.562474e-312  7.562474e-312  7.562480e-312  7.562478e-312\n",
       "1400.0   7.562481e-312  7.562483e-312  7.562484e-312  7.562482e-312\n",
       "1500.0   7.562483e-312  7.562023e-312  7.562023e-312  7.562481e-312\n",
       "1600.0   7.562483e-312  7.562480e-312  7.562481e-312  7.562480e-312\n",
       "1700.0   7.562478e-312  7.562480e-312  7.562481e-312  7.562480e-312\n",
       "1800.0   7.562482e-312  7.561850e-312  7.561886e-312  7.561882e-312\n",
       "1900.0   7.561665e-312  7.561663e-312  7.561663e-312  7.561663e-312\n",
       "2000.0   7.561663e-312  7.561663e-312  7.561663e-312  7.561663e-312\n",
       "2100.0   7.561663e-312  7.561663e-312  7.561663e-312  7.561663e-312\n",
       "2200.0   7.561663e-312  7.561663e-312  7.561663e-312  7.561663e-312\n",
       "2300.0   7.561663e-312  7.561663e-312  7.561663e-312  7.561663e-312\n",
       "2400.0   7.561663e-312  7.561663e-312  7.561663e-312  7.561663e-312\n",
       "2500.0   7.561663e-312  7.561663e-312  7.561663e-312  7.561663e-312\n",
       "2600.0   7.561663e-312  7.561663e-312  7.561665e-312  7.561886e-312\n",
       "2700.0   7.561891e-312  7.561928e-312  7.562478e-312  7.562484e-312\n",
       "2800.0   7.562484e-312  7.562485e-312  7.562485e-312  7.562481e-312\n",
       "2900.0   7.562484e-312  7.562485e-312  7.562485e-312  7.562485e-312\n",
       "...                ...            ...            ...            ...\n",
       "7100.0   7.562025e-312  7.561840e-312  7.562005e-312  7.562043e-312\n",
       "7200.0   7.562023e-312  7.561934e-312  7.562025e-312  7.561881e-312\n",
       "7300.0   7.561848e-312  7.561854e-312  7.561854e-312  7.561665e-312\n",
       "7400.0   7.562346e-312  7.562480e-312  7.562023e-312  7.562023e-312\n",
       "7500.0   7.561663e-312  7.562025e-312  7.561663e-312  7.562025e-312\n",
       "7600.0   7.562025e-312  7.562043e-312  7.562043e-312  7.561892e-312\n",
       "7700.0   7.562480e-312  7.562023e-312  7.561870e-312  7.561873e-312\n",
       "7800.0   7.562023e-312  7.562043e-312  7.562003e-312  7.562043e-312\n",
       "7900.0   7.562471e-312  7.561833e-312  7.562022e-312  7.562043e-312\n",
       "8000.0   7.561664e-312  7.562025e-312  7.561812e-312  7.562043e-312\n",
       "8100.0   7.562023e-312  7.561852e-312  7.562025e-312  7.562023e-312\n",
       "8200.0   7.561873e-312  7.562043e-312  7.562043e-312  7.561664e-312\n",
       "8300.0   7.562023e-312  7.561664e-312  7.561811e-312  7.562022e-312\n",
       "8400.0   7.561663e-312  7.561870e-312  7.562025e-312  7.562025e-312\n",
       "8500.0   7.562025e-312  7.561850e-312  7.561880e-312  7.562043e-312\n",
       "8600.0   7.562023e-312  7.562043e-312  7.562043e-312  7.562043e-312\n",
       "8700.0   7.562148e-312  7.562043e-312  7.562043e-312  7.562043e-312\n",
       "8800.0   7.561853e-312  7.561853e-312  7.561853e-312  7.561853e-312\n",
       "8900.0   7.561853e-312  7.561853e-312  7.561853e-312  7.561853e-312\n",
       "9000.0   7.561853e-312  7.561664e-312  7.561842e-312   0.000000e+00\n",
       "9100.0    0.000000e+00   0.000000e+00   0.000000e+00   0.000000e+00\n",
       "9200.0    0.000000e+00   0.000000e+00   0.000000e+00   0.000000e+00\n",
       "9300.0    0.000000e+00   0.000000e+00   0.000000e+00   0.000000e+00\n",
       "9400.0    0.000000e+00   0.000000e+00   0.000000e+00   0.000000e+00\n",
       "9500.0    0.000000e+00   0.000000e+00   0.000000e+00   0.000000e+00\n",
       "9600.0    0.000000e+00   0.000000e+00   0.000000e+00   0.000000e+00\n",
       "9700.0    0.000000e+00   0.000000e+00   0.000000e+00   0.000000e+00\n",
       "9800.0    0.000000e+00   0.000000e+00   0.000000e+00   0.000000e+00\n",
       "9900.0    0.000000e+00   0.000000e+00   0.000000e+00   0.000000e+00\n",
       "10000.0   0.000000e+00   0.000000e+00   0.000000e+00   0.000000e+00\n",
       "\n",
       "[101 rows x 4 columns]>"
      ]
     },
     "execution_count": 178,
     "metadata": {},
     "output_type": "execute_result"
    }
   ],
   "source": [
    "plot(system.results.)"
   ]
  },
  {
   "cell_type": "code",
   "execution_count": null,
   "metadata": {
    "collapsed": true
   },
   "outputs": [],
   "source": []
  },
  {
   "cell_type": "code",
   "execution_count": null,
   "metadata": {
    "collapsed": true
   },
   "outputs": [],
   "source": []
  },
  {
   "cell_type": "code",
   "execution_count": 165,
   "metadata": {},
   "outputs": [
    {
     "name": "stdout",
     "output_type": "stream",
     "text": [
      "<class 'modsim._Vector'> <class 'modsim._Vector'>\n"
     ]
    },
    {
     "data": {
      "text/html": [
       "10.73312629199899 dimensionless"
      ],
      "text/latex": [
       "$10.73312629199899 dimensionless$"
      ],
      "text/plain": [
       "<Quantity(10.73312629199899, 'dimensionless')>"
      ]
     },
     "execution_count": 165,
     "metadata": {},
     "output_type": "execute_result"
    }
   ],
   "source": [
    "A= Vector(2, -1) *m\n",
    "\n",
    "B= Vector(0, 5)\n",
    "\n",
    "A.proj(B)\n",
    "\n",
    "C= 12*A.hat()\n",
    "\n",
    "\n",
    "print(type(A), type(A.x))\n",
    "C.x"
   ]
  },
  {
   "cell_type": "code",
   "execution_count": null,
   "metadata": {
    "collapsed": true
   },
   "outputs": [],
   "source": []
  },
  {
   "cell_type": "code",
   "execution_count": null,
   "metadata": {
    "collapsed": true
   },
   "outputs": [],
   "source": []
  }
 ],
 "metadata": {
  "kernelspec": {
   "display_name": "Python 3",
   "language": "python",
   "name": "python3"
  },
  "language_info": {
   "codemirror_mode": {
    "name": "ipython",
    "version": 3
   },
   "file_extension": ".py",
   "mimetype": "text/x-python",
   "name": "python",
   "nbconvert_exporter": "python",
   "pygments_lexer": "ipython3",
   "version": "3.6.1"
  }
 },
 "nbformat": 4,
 "nbformat_minor": 2
}
