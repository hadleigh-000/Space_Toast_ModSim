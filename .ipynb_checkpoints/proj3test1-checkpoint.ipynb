{
 "cells": [
  {
   "cell_type": "code",
   "execution_count": 61,
   "metadata": {
    "collapsed": true
   },
   "outputs": [],
   "source": [
    "from modsim import*"
   ]
  },
  {
   "cell_type": "markdown",
   "metadata": {},
   "source": [
    "http://www.pveducation.org/pvcdrom/2-properties-sunlight/solar-radiation-space"
   ]
  },
  {
   "cell_type": "code",
   "execution_count": 52,
   "metadata": {
    "collapsed": true
   },
   "outputs": [],
   "source": [
    "kg= UNITS.kg\n",
    "m= UNITS.m\n",
    "N= UNITS.N\n",
    "W= UNITS.W\n",
    "K= UNITS.K\n",
    "j= UNITS.joules\n",
    "s= UNITS.seconds\n",
    "degrees= UNITS.degrees\n"
   ]
  },
  {
   "cell_type": "code",
   "execution_count": 101,
   "metadata": {},
   "outputs": [
    {
     "data": {
      "text/html": [
       "6.6362985e+18 meter<sup>2</sup> newton"
      ],
      "text/latex": [
       "$6.6362985e+18 meter^{2} \\cdot newton$"
      ],
      "text/plain": [
       "<Quantity(6.6362985e+18, 'meter ** 2 * newton')>"
      ]
     },
     "execution_count": 101,
     "metadata": {},
     "output_type": "execute_result"
    }
   ],
   "source": [
    "mass_sun= 1.989e30 *kg \n",
    "G= 6.673e-11* N *m**2 / kg**2\n",
    "mass_toast= .05*kg\n",
    "S_B_const= 5.67e-8 * W/m**2/K**4\n",
    "temp_S= 5772 *K\n",
    "area_t= .01 *m \n",
    "r_s= 695770 *1000*m \n",
    "Pow_s= 3.9e26 * W \n",
    "Q_b= .008/273 * j / (kg * K)\n",
    "\n",
    "power_sun = S_B_const * temp_S *4 *pi *r_s**2 \n",
    "\n",
    " \n",
    "\n",
    "num_G = G* mass_sun *mass_toast   \n",
    "\n",
    "num_G\n",
    "\n",
    "\n",
    " \n",
    "\n",
    "#I think these are all the equations and constants we need. I found a specific heat for bread that was in kg and C, \n",
    "#which I think I converted into Kelvin but it's a bit sketchy. I'm also not sure about the area of the sunward facing \n",
    "#toast side, but we can look back at that. "
   ]
  },
  {
   "cell_type": "code",
   "execution_count": 102,
   "metadata": {},
   "outputs": [],
   "source": [
    "\n",
    "condition= Condition(x0= 1e30*m, y0= 0*m, velocity= 500*m/s, angle = 40*degrees, duration= 10000*s, T0= 0*K )"
   ]
  },
  {
   "cell_type": "code",
   "execution_count": 103,
   "metadata": {},
   "outputs": [],
   "source": [
    "#I'm not sure I'm doing this right, I'm mostly copying this from chapter 10 with the intro to vectors and the baseball. \n",
    "init= State(x=x0, y=y0, vx= 0, vy= 0)\n",
    "\n",
    "def make_system(condition):\n",
    "    unpack(condition)\n",
    "    \n",
    "    theta = np.deg2rad(angle)\n",
    "    \n",
    "    vx, vy = pol2cart(theta, velocity)\n",
    "    \n",
    "    init= State(x=x0, y=y0, vx= vx, vy= vy)\n",
    "    area_toast = area_t \n",
    "    \n",
    "    ts= linspace(0, duration, 101)\n",
    "    \n",
    "    return System(init= init, mass= mass_toast, area_t= area_t, T= T0, Q_b= Q_b, ts= ts)\n",
    "\n",
    "system= make_system(condition)"
   ]
  },
  {
   "cell_type": "code",
   "execution_count": 109,
   "metadata": {},
   "outputs": [
    {
     "ename": "DimensionalityError",
     "evalue": "Cannot convert from 'newton / kilogram / meter ** 2' (1 / [length] / [time] ** 2) to '1 / second ** 2' (1 / [time] ** 2)",
     "output_type": "error",
     "traceback": [
      "\u001b[1;31m---------------------------------------------------------------------------\u001b[0m",
      "\u001b[1;31mDimensionalityError\u001b[0m                       Traceback (most recent call last)",
      "\u001b[1;32m<ipython-input-109-0b958ddc5129>\u001b[0m in \u001b[0;36m<module>\u001b[1;34m()\u001b[0m\n\u001b[0;32m     24\u001b[0m \u001b[1;33m\u001b[0m\u001b[0m\n\u001b[0;32m     25\u001b[0m \u001b[1;33m\u001b[0m\u001b[0m\n\u001b[1;32m---> 26\u001b[1;33m \u001b[0mslope_func\u001b[0m\u001b[1;33m(\u001b[0m\u001b[0minit\u001b[0m\u001b[1;33m,\u001b[0m\u001b[1;36m1\u001b[0m\u001b[1;33m,\u001b[0m\u001b[0msystem\u001b[0m\u001b[1;33m)\u001b[0m\u001b[1;33m\u001b[0m\u001b[0m\n\u001b[0m\u001b[0;32m     27\u001b[0m \u001b[1;33m\u001b[0m\u001b[0m\n",
      "\u001b[1;32m<ipython-input-109-0b958ddc5129>\u001b[0m in \u001b[0;36mslope_func\u001b[1;34m(state, t, system)\u001b[0m\n\u001b[0;32m     14\u001b[0m     \u001b[0ma_cent\u001b[0m\u001b[1;33m=\u001b[0m \u001b[0mF_cent\u001b[0m\u001b[1;33m/\u001b[0m\u001b[0mmass_toast\u001b[0m \u001b[1;33m*\u001b[0m \u001b[1;33m(\u001b[0m\u001b[0mP\u001b[0m\u001b[1;33m/\u001b[0m \u001b[0mP\u001b[0m\u001b[1;33m.\u001b[0m\u001b[0mmag\u001b[0m\u001b[1;33m)\u001b[0m\u001b[1;33m\u001b[0m\u001b[0m\n\u001b[0;32m     15\u001b[0m \u001b[1;33m\u001b[0m\u001b[0m\n\u001b[1;32m---> 16\u001b[1;33m     \u001b[0ma\u001b[0m \u001b[1;33m=\u001b[0m \u001b[0ma_grav\u001b[0m  \u001b[1;33m+\u001b[0m \u001b[0ma_cent\u001b[0m\u001b[1;33m\u001b[0m\u001b[0m\n\u001b[0m\u001b[0;32m     17\u001b[0m \u001b[1;33m\u001b[0m\u001b[0m\n\u001b[0;32m     18\u001b[0m     \u001b[0mrad_on_toast\u001b[0m\u001b[1;33m=\u001b[0m \u001b[0mt\u001b[0m \u001b[1;33m*\u001b[0m \u001b[0mPow_s\u001b[0m \u001b[1;33m*\u001b[0m \u001b[0mr_s\u001b[0m\u001b[1;33m**\u001b[0m\u001b[1;36m2\u001b[0m\u001b[1;33m/\u001b[0m \u001b[0mP\u001b[0m\u001b[1;33m.\u001b[0m\u001b[0mmag\u001b[0m\u001b[1;33m**\u001b[0m\u001b[1;36m2\u001b[0m\u001b[1;33m\u001b[0m\u001b[0m\n",
      "\u001b[1;32mC:\\ProgramData\\Miniconda3\\lib\\site-packages\\pint\\quantity.py\u001b[0m in \u001b[0;36m__add__\u001b[1;34m(self, other)\u001b[0m\n\u001b[0;32m    585\u001b[0m \u001b[1;33m\u001b[0m\u001b[0m\n\u001b[0;32m    586\u001b[0m     \u001b[1;32mdef\u001b[0m \u001b[0m__add__\u001b[0m\u001b[1;33m(\u001b[0m\u001b[0mself\u001b[0m\u001b[1;33m,\u001b[0m \u001b[0mother\u001b[0m\u001b[1;33m)\u001b[0m\u001b[1;33m:\u001b[0m\u001b[1;33m\u001b[0m\u001b[0m\n\u001b[1;32m--> 587\u001b[1;33m         \u001b[1;32mreturn\u001b[0m \u001b[0mself\u001b[0m\u001b[1;33m.\u001b[0m\u001b[0m_add_sub\u001b[0m\u001b[1;33m(\u001b[0m\u001b[0mother\u001b[0m\u001b[1;33m,\u001b[0m \u001b[0moperator\u001b[0m\u001b[1;33m.\u001b[0m\u001b[0madd\u001b[0m\u001b[1;33m)\u001b[0m\u001b[1;33m\u001b[0m\u001b[0m\n\u001b[0m\u001b[0;32m    588\u001b[0m \u001b[1;33m\u001b[0m\u001b[0m\n\u001b[0;32m    589\u001b[0m     \u001b[0m__radd__\u001b[0m \u001b[1;33m=\u001b[0m \u001b[0m__add__\u001b[0m\u001b[1;33m\u001b[0m\u001b[0m\n",
      "\u001b[1;32mC:\\ProgramData\\Miniconda3\\lib\\site-packages\\pint\\quantity.py\u001b[0m in \u001b[0;36m_add_sub\u001b[1;34m(self, other, op)\u001b[0m\n\u001b[0;32m    507\u001b[0m             raise DimensionalityError(self._units, other._units,\n\u001b[0;32m    508\u001b[0m                                       \u001b[0mself\u001b[0m\u001b[1;33m.\u001b[0m\u001b[0mdimensionality\u001b[0m\u001b[1;33m,\u001b[0m\u001b[1;33m\u001b[0m\u001b[0m\n\u001b[1;32m--> 509\u001b[1;33m                                       other.dimensionality)\n\u001b[0m\u001b[0;32m    510\u001b[0m \u001b[1;33m\u001b[0m\u001b[0m\n\u001b[0;32m    511\u001b[0m         \u001b[1;31m# Next we define some variables to make if-clauses more readable.\u001b[0m\u001b[1;33m\u001b[0m\u001b[1;33m\u001b[0m\u001b[0m\n",
      "\u001b[1;31mDimensionalityError\u001b[0m: Cannot convert from 'newton / kilogram / meter ** 2' (1 / [length] / [time] ** 2) to '1 / second ** 2' (1 / [time] ** 2)"
     ]
    }
   ],
   "source": [
    "def slope_func(state, t, system):\n",
    "    x, y, vx, vy = state\n",
    "    \n",
    "    unpack(system)\n",
    "    P= Vector(x, y) *m\n",
    "    V= Vector(vx, vy) *m/s\n",
    "    Tangent_dir= Vector(x, -y) \n",
    "    w= V.proj(Tangent_dir) *m/s \n",
    "\n",
    "    F_grav= num_G / P.mag **2 \n",
    "    F_cent= w**2  *mass_toast / P.mag \n",
    "    \n",
    "    a_grav= F_grav/mass_toast * (P/P.mag) \n",
    "    a_cent= F_cent/mass_toast * (P/ P.mag)\n",
    "    \n",
    "    a = a_grav  + a_cent \n",
    "    \n",
    "    rad_on_toast= t * Pow_s * r_s**2/ P.mag**2 \n",
    "    temp_toast= rad_on_toast/ Q_b / mass_toast \n",
    "    \n",
    "    \n",
    "    return temp_toast, P.x, P.y, V.x, V.y, a.x, a.y\n",
    "    \n",
    "    \n",
    "    \n",
    "slope_func(init,1,system)\n",
    "    "
   ]
  },
  {
   "cell_type": "code",
   "execution_count": 93,
   "metadata": {},
   "outputs": [
    {
     "data": {
      "text/html": [
       "[-0. -5.] dimensionless"
      ],
      "text/latex": [
       "$[-0. -5.] dimensionless$"
      ],
      "text/plain": [
       "<Quantity([-0. -5.], 'dimensionless')>"
      ]
     },
     "execution_count": 93,
     "metadata": {},
     "output_type": "execute_result"
    }
   ],
   "source": [
    "A= Vector(2, -1)\n",
    "\n",
    "B= Vector(0, 5)\n",
    "\n",
    "A.proj(B)\n",
    "\n"
   ]
  },
  {
   "cell_type": "code",
   "execution_count": null,
   "metadata": {
    "collapsed": true
   },
   "outputs": [],
   "source": []
  }
 ],
 "metadata": {
  "kernelspec": {
   "display_name": "Python 3",
   "language": "python",
   "name": "python3"
  },
  "language_info": {
   "codemirror_mode": {
    "name": "ipython",
    "version": 3
   },
   "file_extension": ".py",
   "mimetype": "text/x-python",
   "name": "python",
   "nbconvert_exporter": "python",
   "pygments_lexer": "ipython3",
   "version": "3.6.1"
  }
 },
 "nbformat": 4,
 "nbformat_minor": 2
}
