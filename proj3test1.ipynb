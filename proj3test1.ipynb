{
 "cells": [
  {
   "cell_type": "code",
   "execution_count": 150,
   "metadata": {
    "collapsed": true
   },
   "outputs": [],
   "source": [
    "from modsim import *"
   ]
  },
  {
   "cell_type": "markdown",
   "metadata": {},
   "source": [
    "http://www.pveducation.org/pvcdrom/2-properties-sunlight/solar-radiation-space"
   ]
  },
  {
   "cell_type": "code",
   "execution_count": 151,
   "metadata": {
    "collapsed": true
   },
   "outputs": [],
   "source": [
    "kg= UNITS.kg\n",
    "m= UNITS.m\n",
    "N= UNITS.N\n",
    "W= UNITS.W\n",
    "K= UNITS.K\n",
    "j= UNITS.joules\n",
    "s= UNITS.seconds\n",
    "degrees= UNITS.degrees\n"
   ]
  },
  {
   "cell_type": "code",
   "execution_count": 152,
   "metadata": {},
   "outputs": [
    {
     "data": {
      "text/html": [
       "6.6362985e+18 meter<sup>2</sup> newton"
      ],
      "text/latex": [
       "$6.6362985e+18 meter^{2} \\cdot newton$"
      ],
      "text/plain": [
       "<Quantity(6.6362985e+18, 'meter ** 2 * newton')>"
      ]
     },
     "execution_count": 152,
     "metadata": {},
     "output_type": "execute_result"
    }
   ],
   "source": [
    "mass_sun= 1.989e30 *kg \n",
    "G= 6.673e-11* N *m**2 / kg**2\n",
    "mass_toast= .05*kg\n",
    "S_B_const= 5.67e-8 * W/m**2/K**4\n",
    "temp_S= 5772 *K\n",
    "area_t= .01 *m \n",
    "r_s= 695770 *1000*m \n",
    "Pow_s= 3.9e26 * W \n",
    "Q_b= .008/273 * j / (kg * K)\n",
    "\n",
    "power_sun = S_B_const * temp_S *4 *pi *r_s**2 \n",
    "\n",
    " \n",
    "\n",
    "num_G = G* mass_sun *mass_toast   \n",
    "\n",
    "num_G\n",
    "\n",
    "\n",
    " \n",
    "\n",
    "#I think these are all the equations and constants we need. I found a specific heat for bread that was in kg and C, \n",
    "#which I think I converted into Kelvin but it's a bit sketchy. I'm also not sure about the area of the sunward facing \n",
    "#toast side, but we can look back at that. "
   ]
  },
  {
   "cell_type": "code",
   "execution_count": 153,
   "metadata": {},
   "outputs": [],
   "source": [
    "\n",
    "condition= Condition(x0= 1e30*m, y0= 0*m, velocity= 500*m/s, angle = 40*degrees, duration= 10000*s, T0= 0*K )"
   ]
  },
  {
   "cell_type": "code",
   "execution_count": 161,
   "metadata": {},
   "outputs": [],
   "source": [
    "#I'm not sure I'm doing this right, I'm mostly copying this from chapter 10 with the intro to vectors and the baseball. \n",
    "\n",
    "def make_system(condition):\n",
    "    unpack(condition)\n",
    "    \n",
    "    theta = np.deg2rad(angle)\n",
    "    \n",
    "    vx, vy = pol2cart(theta, velocity)\n",
    "    \n",
    "    init= State(x=x0, y=y0, vx= vx, vy= vy)\n",
    "    area_toast = area_t \n",
    "    \n",
    "    ts= linspace(0, duration, 101)\n",
    "    \n",
    "    return System(init= init, mass= mass_toast, area_t= area_t, T= T0, Q_b= Q_b, ts= ts)\n",
    "\n",
    "system= make_system(condition)\n",
    "\n"
   ]
  },
  {
   "cell_type": "code",
   "execution_count": 174,
   "metadata": {},
   "outputs": [
    {
     "data": {
      "text/plain": [
       "(<Quantity(383.022221559489, 'meter / second')>,\n",
       " <Quantity(321.3938048432696, 'meter / second')>,\n",
       " <Quantity(1.467060222083663e+35, 'newton / kilogram')>,\n",
       " <Quantity(0.0, 'newton / kilogram')>,\n",
       " <Quantity(1.2885422429265747e-10, 'kelvin * watt / joule / meter ** 2')>)"
      ]
     },
     "execution_count": 174,
     "metadata": {},
     "output_type": "execute_result"
    }
   ],
   "source": [
    "def slope_func(state, t, system):\n",
    "    x, y, vx, vy = state\n",
    "    \n",
    "    unpack(system)\n",
    "    P= Vector(x, y) *m\n",
    "    V= Vector(vx, vy) *m/s\n",
    "    Tangent_dir= Vector(x, -y) \n",
    "    w= V.proj(Tangent_dir) * Tangent_dir.hat() * m/s \n",
    "\n",
    "    F_grav= num_G / P.mag **2 * (P/P.mag) \n",
    "    F_cent= w**2  *mass_toast / P.mag  * Tangent_dir.hat()\n",
    "    \n",
    "    grav_theta= P.angle\n",
    "    \n",
    "    a_grav= (F_grav/mass_toast) * P.hat() *m**2\n",
    "    a_cent= (F_cent/mass_toast /m) *Tangent_dir.hat() *m**2\n",
    "    \n",
    "    \n",
    "    a1= a_grav + a_cent\n",
    "    \n",
    "    a= Vector(a1[0], a1[1])\n",
    "\n",
    "    \n",
    "    \n",
    "    rad_on_toast= t * Pow_s * r_s**2/ P.mag**2 \n",
    "    temp_toast= rad_on_toast/ Q_b / mass_toast \n",
    "    \n",
    "    \n",
    "    return vx, vy, a.x, a.y, temp_toast\n",
    "    \n",
    "    \n",
    "    \n",
    "slope_func(init,1,system)\n",
    "    "
   ]
  },
  {
   "cell_type": "code",
   "execution_count": 165,
   "metadata": {},
   "outputs": [
    {
     "name": "stdout",
     "output_type": "stream",
     "text": [
      "<class 'modsim._Vector'> <class 'modsim._Vector'>\n"
     ]
    },
    {
     "data": {
      "text/html": [
       "10.73312629199899 dimensionless"
      ],
      "text/latex": [
       "$10.73312629199899 dimensionless$"
      ],
      "text/plain": [
       "<Quantity(10.73312629199899, 'dimensionless')>"
      ]
     },
     "execution_count": 165,
     "metadata": {},
     "output_type": "execute_result"
    }
   ],
   "source": [
    "A= Vector(2, -1) *m\n",
    "\n",
    "B= Vector(0, 5)\n",
    "\n",
    "A.proj(B)\n",
    "\n",
    "C= 12*A.hat()\n",
    "\n",
    "\n",
    "print(type(A), type(A.x))\n",
    "C.x"
   ]
  },
  {
   "cell_type": "code",
   "execution_count": null,
   "metadata": {
    "collapsed": true
   },
   "outputs": [],
   "source": []
  },
  {
   "cell_type": "code",
   "execution_count": null,
   "metadata": {
    "collapsed": true
   },
   "outputs": [],
   "source": []
  }
 ],
 "metadata": {
  "kernelspec": {
   "display_name": "Python 3",
   "language": "python",
   "name": "python3"
  },
  "language_info": {
   "codemirror_mode": {
    "name": "ipython",
    "version": 3
   },
   "file_extension": ".py",
   "mimetype": "text/x-python",
   "name": "python",
   "nbconvert_exporter": "python",
   "pygments_lexer": "ipython3",
   "version": "3.6.1"
  }
 },
 "nbformat": 4,
 "nbformat_minor": 2
}
