{
 "cells": [
  {
   "cell_type": "code",
   "execution_count": 1440,
   "metadata": {
    "collapsed": true
   },
   "outputs": [],
   "source": [
    "from modsim import *\n",
    "%matplotlib inline\n",
    "import matplotlib.pyplot as plt\n",
    "import numpy as np\n",
    "\n"
   ]
  },
  {
   "cell_type": "markdown",
   "metadata": {},
   "source": [
    "http://www4.ncsu.edu/~franzen/public_html/CH437/lec1/pdf/earth_T.pdf\n",
    "\n",
    "http://www.pveducation.org/pvcdrom/2-properties-sunlight/solar-radiation-space"
   ]
  },
  {
   "cell_type": "code",
   "execution_count": 1441,
   "metadata": {
    "collapsed": true
   },
   "outputs": [],
   "source": [
    "degrees= UNITS.degrees"
   ]
  },
  {
   "cell_type": "code",
   "execution_count": 1442,
   "metadata": {},
   "outputs": [
    {
     "data": {
      "text/plain": [
       "0.0567"
      ]
     },
     "execution_count": 1442,
     "metadata": {},
     "output_type": "execute_result"
    }
   ],
   "source": [
    "mkm= 1/1000\n",
    "\n",
    "sechour= (1/60)**2 \n",
    "\n",
    "mass_sun= 1.989e30 \n",
    "G= 6.673e-11 * mkm**3 \n",
    "mass_toast= .5\n",
    "S_B_const= 5.67e-2 # this is in km^2 \n",
    "temp_S= 5772 \n",
    "area_t= .01 *mkm**2\n",
    "r_s= 3.19e3\n",
    "Pow_s= 3.9e26 \n",
    "C_bread= 2700\n",
    "SA_sun= 4*pi*r_s**2\n",
    "flux_sun= 6.33e7\n",
    "\n",
    "\n",
    "\n",
    "num_G = G* mass_sun   \n",
    "\n",
    "num_G\n",
    "\n",
    "dist_init= 5e8\n",
    "\n",
    "VXinit= sqrt(2*num_G/dist_init)\n",
    "\n",
    "S_B_const\n",
    "\n",
    "\n",
    "#I think these are all the equations and constants we need. I found a specific heat for bread that was in kg and C, \n",
    "#which I think I converted into Kelvin but it's a bit sketchy. I'm also not sure about the area of the sunward facing \n",
    "#toast side, but we can look back at that. "
   ]
  },
  {
   "cell_type": "code",
   "execution_count": 1443,
   "metadata": {
    "collapsed": true
   },
   "outputs": [],
   "source": [
    "\n",
    "condition= Condition(x0= 0, y0= -5e8, velocity= 15, angle = 45, duration= 1e8, T0= 0 )"
   ]
  },
  {
   "cell_type": "code",
   "execution_count": 1444,
   "metadata": {},
   "outputs": [
    {
     "data": {
      "text/html": [
       "<div>\n",
       "<style>\n",
       "    .dataframe thead tr:only-child th {\n",
       "        text-align: right;\n",
       "    }\n",
       "\n",
       "    .dataframe thead th {\n",
       "        text-align: left;\n",
       "    }\n",
       "\n",
       "    .dataframe tbody tr th {\n",
       "        vertical-align: top;\n",
       "    }\n",
       "</style>\n",
       "<table border=\"1\" class=\"dataframe\">\n",
       "  <thead>\n",
       "    <tr style=\"text-align: right;\">\n",
       "      <th></th>\n",
       "      <th>value</th>\n",
       "    </tr>\n",
       "  </thead>\n",
       "  <tbody>\n",
       "    <tr>\n",
       "      <th>x</th>\n",
       "      <td>0.000000e+00</td>\n",
       "    </tr>\n",
       "    <tr>\n",
       "      <th>y</th>\n",
       "      <td>-5.000000e+08</td>\n",
       "    </tr>\n",
       "    <tr>\n",
       "      <th>vx</th>\n",
       "      <td>1.060660e+01</td>\n",
       "    </tr>\n",
       "    <tr>\n",
       "      <th>vy</th>\n",
       "      <td>1.060660e+01</td>\n",
       "    </tr>\n",
       "    <tr>\n",
       "      <th>temp</th>\n",
       "      <td>2.163131e+02</td>\n",
       "    </tr>\n",
       "  </tbody>\n",
       "</table>\n",
       "</div>"
      ],
      "text/plain": [
       "x       0.000000e+00\n",
       "y      -5.000000e+08\n",
       "vx      1.060660e+01\n",
       "vy      1.060660e+01\n",
       "temp    2.163131e+02\n",
       "dtype: float64"
      ]
     },
     "execution_count": 1444,
     "metadata": {},
     "output_type": "execute_result"
    }
   ],
   "source": [
    "#I'm not sure I'm doing this right, I'm mostly copying this from chapter 10 with the intro to vectors and the baseball. \n",
    "\n",
    "def make_system(condition):\n",
    "    unpack(condition)\n",
    "    \n",
    "    theta = angle * pi / 180\n",
    "    \n",
    "    vx, vy = pol2cart(theta, velocity) \n",
    "    w0= vx\n",
    "\n",
    "    \n",
    "    ts= linspace(0, duration, 101) \n",
    "   \n",
    "    \n",
    "    P_abs=  area_t*(Pow_s / (4*pi*y0**2)) \n",
    "    \n",
    "    temp_init= (P_abs/ (S_B_const * area_t ))**(1/4)\n",
    "    \n",
    "    init= State(x=x0, y=y0, vx= vx, vy= vy, temp= temp_init)\n",
    "    area_toast = area_t \n",
    "    \n",
    "    return System(init= init, mass= mass_toast, area_t= area_t, ts= ts)\n",
    "\n",
    "system= make_system(condition) \n",
    "system.init\n"
   ]
  },
  {
   "cell_type": "code",
   "execution_count": 1445,
   "metadata": {},
   "outputs": [
    {
     "data": {
      "text/plain": [
       "(10.606601717798213,\n",
       " 10.606601717798213,\n",
       " <Quantity(0.0, 'dimensionless')>,\n",
       " <Quantity(3.0590387999999995e-07, 'dimensionless')>,\n",
       " 0.0)"
      ]
     },
     "execution_count": 1445,
     "metadata": {},
     "output_type": "execute_result"
    }
   ],
   "source": [
    "def slope_func(state, t, system):\n",
    "    x, y, vx, vy, temp= state\n",
    "    \n",
    "    unpack(system)\n",
    "    dist= sqrt(x**2+y**2)\n",
    "    P= Vector(-x, -y) \n",
    "    V= Vector(vx, vy) \n",
    "    tan_vect= Vector((-y/dist), (x/ dist))\n",
    "    tan_v= tan_vect/tan_vect.mag\n",
    "    #print(tan_v)\n",
    "    \n",
    "    xdir= -x/ dist\n",
    "    ydir= -y/dist\n",
    "    w= V.proj(tan_v)\n",
    "    \n",
    "\n",
    "    F_grav= G* mass_sun *mass_toast/ (dist)**2\n",
    "    \n",
    "    a_grav= Vector(xdir, ydir) *((F_grav)/mass_toast) \n",
    "    a_cent= Vector(-xdir, -ydir) *(w.mag**2)/dist\n",
    "    \n",
    "    #print(a_cent)\n",
    "    ax= a_grav.x + a_cent.x\n",
    "    ay= a_grav.y + a_cent.y\n",
    "    \n",
    "    \n",
    "    P_abs=  area_t *(Pow_s/(4*pi*dist**2)) \n",
    "    P_emit= temp**4 * S_B_const * area_t\n",
    "    #print(P_abs, P_emit)\n",
    "    temp_t= (P_abs - P_emit)/ (C_bread* mass_toast)\n",
    "    \n",
    "    \n",
    "    return vx, vy, ax, ay, temp_t\n",
    "    \n",
    "    \n",
    "                     \n",
    "    \n",
    "    \n",
    "slope_func(system.init,1,system)\n",
    "    "
   ]
  },
  {
   "cell_type": "code",
   "execution_count": null,
   "metadata": {
    "collapsed": true
   },
   "outputs": [],
   "source": []
  },
  {
   "cell_type": "code",
   "execution_count": 1446,
   "metadata": {},
   "outputs": [],
   "source": [
    "\n",
    "run_odeint(system, slope_func)"
   ]
  },
  {
   "cell_type": "code",
   "execution_count": 1447,
   "metadata": {
    "scrolled": true
   },
   "outputs": [
    {
     "data": {
      "text/html": [
       "<div>\n",
       "<style>\n",
       "    .dataframe thead tr:only-child th {\n",
       "        text-align: right;\n",
       "    }\n",
       "\n",
       "    .dataframe thead th {\n",
       "        text-align: left;\n",
       "    }\n",
       "\n",
       "    .dataframe tbody tr th {\n",
       "        vertical-align: top;\n",
       "    }\n",
       "</style>\n",
       "<table border=\"1\" class=\"dataframe\">\n",
       "  <thead>\n",
       "    <tr style=\"text-align: right;\">\n",
       "      <th></th>\n",
       "      <th>x</th>\n",
       "      <th>y</th>\n",
       "      <th>vx</th>\n",
       "      <th>vy</th>\n",
       "      <th>temp</th>\n",
       "    </tr>\n",
       "  </thead>\n",
       "  <tbody>\n",
       "    <tr>\n",
       "      <th>0.0</th>\n",
       "      <td>0.000000e+00</td>\n",
       "      <td>-5.000000e+08</td>\n",
       "      <td>10.606602</td>\n",
       "      <td>10.606602</td>\n",
       "      <td>216.313149</td>\n",
       "    </tr>\n",
       "    <tr>\n",
       "      <th>1000000.0</th>\n",
       "      <td>1.060549e+07</td>\n",
       "      <td>-4.892391e+08</td>\n",
       "      <td>10.603251</td>\n",
       "      <td>10.916631</td>\n",
       "      <td>218.517468</td>\n",
       "    </tr>\n",
       "    <tr>\n",
       "      <th>2000000.0</th>\n",
       "      <td>2.120412e+07</td>\n",
       "      <td>-4.781640e+08</td>\n",
       "      <td>10.592753</td>\n",
       "      <td>11.234985</td>\n",
       "      <td>220.951634</td>\n",
       "    </tr>\n",
       "    <tr>\n",
       "      <th>3000000.0</th>\n",
       "      <td>3.178838e+07</td>\n",
       "      <td>-4.667663e+08</td>\n",
       "      <td>10.574396</td>\n",
       "      <td>11.561740</td>\n",
       "      <td>223.484951</td>\n",
       "    </tr>\n",
       "    <tr>\n",
       "      <th>4000000.0</th>\n",
       "      <td>4.235003e+07</td>\n",
       "      <td>-4.550377e+08</td>\n",
       "      <td>10.547404</td>\n",
       "      <td>11.896912</td>\n",
       "      <td>226.121676</td>\n",
       "    </tr>\n",
       "    <tr>\n",
       "      <th>5000000.0</th>\n",
       "      <td>5.288003e+07</td>\n",
       "      <td>-4.429697e+08</td>\n",
       "      <td>10.510936</td>\n",
       "      <td>12.240437</td>\n",
       "      <td>228.865931</td>\n",
       "    </tr>\n",
       "    <tr>\n",
       "      <th>6000000.0</th>\n",
       "      <td>6.336845e+07</td>\n",
       "      <td>-4.305541e+08</td>\n",
       "      <td>10.464087</td>\n",
       "      <td>12.592156</td>\n",
       "      <td>231.721574</td>\n",
       "    </tr>\n",
       "    <tr>\n",
       "      <th>7000000.0</th>\n",
       "      <td>7.380442e+07</td>\n",
       "      <td>-4.177827e+08</td>\n",
       "      <td>10.405890</td>\n",
       "      <td>12.951792</td>\n",
       "      <td>234.692031</td>\n",
       "    </tr>\n",
       "    <tr>\n",
       "      <th>8000000.0</th>\n",
       "      <td>8.417610e+07</td>\n",
       "      <td>-4.046480e+08</td>\n",
       "      <td>10.335320</td>\n",
       "      <td>13.318916</td>\n",
       "      <td>237.780064</td>\n",
       "    </tr>\n",
       "    <tr>\n",
       "      <th>9000000.0</th>\n",
       "      <td>9.447058e+07</td>\n",
       "      <td>-3.911426e+08</td>\n",
       "      <td>10.251305</td>\n",
       "      <td>13.692924</td>\n",
       "      <td>240.987491</td>\n",
       "    </tr>\n",
       "    <tr>\n",
       "      <th>10000000.0</th>\n",
       "      <td>1.046739e+08</td>\n",
       "      <td>-3.772601e+08</td>\n",
       "      <td>10.152744</td>\n",
       "      <td>14.073000</td>\n",
       "      <td>244.314809</td>\n",
       "    </tr>\n",
       "    <tr>\n",
       "      <th>11000000.0</th>\n",
       "      <td>1.147708e+08</td>\n",
       "      <td>-3.629949e+08</td>\n",
       "      <td>10.038529</td>\n",
       "      <td>14.458075</td>\n",
       "      <td>247.760722</td>\n",
       "    </tr>\n",
       "    <tr>\n",
       "      <th>12000000.0</th>\n",
       "      <td>1.247453e+08</td>\n",
       "      <td>-3.483428e+08</td>\n",
       "      <td>9.907578</td>\n",
       "      <td>14.846791</td>\n",
       "      <td>251.321561</td>\n",
       "    </tr>\n",
       "    <tr>\n",
       "      <th>13000000.0</th>\n",
       "      <td>1.345801e+08</td>\n",
       "      <td>-3.333007e+08</td>\n",
       "      <td>9.758881</td>\n",
       "      <td>15.237463</td>\n",
       "      <td>254.990553</td>\n",
       "    </tr>\n",
       "    <tr>\n",
       "      <th>14000000.0</th>\n",
       "      <td>1.442569e+08</td>\n",
       "      <td>-3.178679e+08</td>\n",
       "      <td>9.591556</td>\n",
       "      <td>15.628048</td>\n",
       "      <td>258.756948</td>\n",
       "    </tr>\n",
       "    <tr>\n",
       "      <th>15000000.0</th>\n",
       "      <td>1.537568e+08</td>\n",
       "      <td>-3.020454e+08</td>\n",
       "      <td>9.404923</td>\n",
       "      <td>16.016120</td>\n",
       "      <td>262.605001</td>\n",
       "    </tr>\n",
       "    <tr>\n",
       "      <th>16000000.0</th>\n",
       "      <td>1.630602e+08</td>\n",
       "      <td>-2.858374e+08</td>\n",
       "      <td>9.198580</td>\n",
       "      <td>16.398873</td>\n",
       "      <td>266.512811</td>\n",
       "    </tr>\n",
       "    <tr>\n",
       "      <th>17000000.0</th>\n",
       "      <td>1.721473e+08</td>\n",
       "      <td>-2.692505e+08</td>\n",
       "      <td>8.972491</td>\n",
       "      <td>16.773150</td>\n",
       "      <td>270.451074</td>\n",
       "    </tr>\n",
       "    <tr>\n",
       "      <th>18000000.0</th>\n",
       "      <td>1.809987e+08</td>\n",
       "      <td>-2.522951e+08</td>\n",
       "      <td>8.727069</td>\n",
       "      <td>17.135508</td>\n",
       "      <td>274.381851</td>\n",
       "    </tr>\n",
       "    <tr>\n",
       "      <th>19000000.0</th>\n",
       "      <td>1.895953e+08</td>\n",
       "      <td>-2.349847e+08</td>\n",
       "      <td>8.463234</td>\n",
       "      <td>17.482343</td>\n",
       "      <td>278.257477</td>\n",
       "    </tr>\n",
       "    <tr>\n",
       "      <th>20000000.0</th>\n",
       "      <td>1.979195e+08</td>\n",
       "      <td>-2.173367e+08</td>\n",
       "      <td>8.182433</td>\n",
       "      <td>17.810057</td>\n",
       "      <td>282.019905</td>\n",
       "    </tr>\n",
       "    <tr>\n",
       "      <th>21000000.0</th>\n",
       "      <td>2.059552e+08</td>\n",
       "      <td>-1.993721e+08</td>\n",
       "      <td>7.886587</td>\n",
       "      <td>18.115280</td>\n",
       "      <td>285.600750</td>\n",
       "    </tr>\n",
       "    <tr>\n",
       "      <th>22000000.0</th>\n",
       "      <td>2.136884e+08</td>\n",
       "      <td>-1.811147e+08</td>\n",
       "      <td>7.577954</td>\n",
       "      <td>18.395112</td>\n",
       "      <td>288.922419</td>\n",
       "    </tr>\n",
       "    <tr>\n",
       "      <th>23000000.0</th>\n",
       "      <td>2.211076e+08</td>\n",
       "      <td>-1.625911e+08</td>\n",
       "      <td>7.258890</td>\n",
       "      <td>18.647347</td>\n",
       "      <td>291.900678</td>\n",
       "    </tr>\n",
       "    <tr>\n",
       "      <th>24000000.0</th>\n",
       "      <td>2.282034e+08</td>\n",
       "      <td>-1.438296e+08</td>\n",
       "      <td>6.931534</td>\n",
       "      <td>18.870623</td>\n",
       "      <td>294.448872</td>\n",
       "    </tr>\n",
       "    <tr>\n",
       "      <th>25000000.0</th>\n",
       "      <td>2.349685e+08</td>\n",
       "      <td>-1.248596e+08</td>\n",
       "      <td>6.597472</td>\n",
       "      <td>19.064445</td>\n",
       "      <td>296.483705</td>\n",
       "    </tr>\n",
       "    <tr>\n",
       "      <th>26000000.0</th>\n",
       "      <td>2.413964e+08</td>\n",
       "      <td>-1.057105e+08</td>\n",
       "      <td>6.257466</td>\n",
       "      <td>19.229040</td>\n",
       "      <td>297.932185</td>\n",
       "    </tr>\n",
       "    <tr>\n",
       "      <th>27000000.0</th>\n",
       "      <td>2.474814e+08</td>\n",
       "      <td>-8.641107e+07</td>\n",
       "      <td>5.911349</td>\n",
       "      <td>19.365075</td>\n",
       "      <td>298.738668</td>\n",
       "    </tr>\n",
       "    <tr>\n",
       "      <th>28000000.0</th>\n",
       "      <td>2.532168e+08</td>\n",
       "      <td>-6.698960e+07</td>\n",
       "      <td>5.558150</td>\n",
       "      <td>19.473288</td>\n",
       "      <td>298.870909</td>\n",
       "    </tr>\n",
       "    <tr>\n",
       "      <th>29000000.0</th>\n",
       "      <td>2.585948e+08</td>\n",
       "      <td>-4.747360e+07</td>\n",
       "      <td>5.196453</td>\n",
       "      <td>19.554168</td>\n",
       "      <td>298.323778</td>\n",
       "    </tr>\n",
       "    <tr>\n",
       "      <th>...</th>\n",
       "      <td>...</td>\n",
       "      <td>...</td>\n",
       "      <td>...</td>\n",
       "      <td>...</td>\n",
       "      <td>...</td>\n",
       "    </tr>\n",
       "    <tr>\n",
       "      <th>71000000.0</th>\n",
       "      <td>2.032214e+08</td>\n",
       "      <td>6.216100e+08</td>\n",
       "      <td>-4.911463</td>\n",
       "      <td>11.073074</td>\n",
       "      <td>189.254593</td>\n",
       "    </tr>\n",
       "    <tr>\n",
       "      <th>72000000.0</th>\n",
       "      <td>1.982780e+08</td>\n",
       "      <td>6.325840e+08</td>\n",
       "      <td>-4.974767</td>\n",
       "      <td>10.875352</td>\n",
       "      <td>187.972956</td>\n",
       "    </tr>\n",
       "    <tr>\n",
       "      <th>73000000.0</th>\n",
       "      <td>1.932731e+08</td>\n",
       "      <td>6.433618e+08</td>\n",
       "      <td>-5.034442</td>\n",
       "      <td>10.680912</td>\n",
       "      <td>186.732103</td>\n",
       "    </tr>\n",
       "    <tr>\n",
       "      <th>74000000.0</th>\n",
       "      <td>1.882103e+08</td>\n",
       "      <td>6.539469e+08</td>\n",
       "      <td>-5.090685</td>\n",
       "      <td>10.489670</td>\n",
       "      <td>185.530257</td>\n",
       "    </tr>\n",
       "    <tr>\n",
       "      <th>75000000.0</th>\n",
       "      <td>1.830928e+08</td>\n",
       "      <td>6.643422e+08</td>\n",
       "      <td>-5.143677</td>\n",
       "      <td>10.301545</td>\n",
       "      <td>184.365741</td>\n",
       "    </tr>\n",
       "    <tr>\n",
       "      <th>76000000.0</th>\n",
       "      <td>1.779239e+08</td>\n",
       "      <td>6.745510e+08</td>\n",
       "      <td>-5.193591</td>\n",
       "      <td>10.116453</td>\n",
       "      <td>183.236972</td>\n",
       "    </tr>\n",
       "    <tr>\n",
       "      <th>77000000.0</th>\n",
       "      <td>1.727066e+08</td>\n",
       "      <td>6.845761e+08</td>\n",
       "      <td>-5.240585</td>\n",
       "      <td>9.934315</td>\n",
       "      <td>182.142453</td>\n",
       "    </tr>\n",
       "    <tr>\n",
       "      <th>78000000.0</th>\n",
       "      <td>1.674437e+08</td>\n",
       "      <td>6.944206e+08</td>\n",
       "      <td>-5.284808</td>\n",
       "      <td>9.755049</td>\n",
       "      <td>181.080767</td>\n",
       "    </tr>\n",
       "    <tr>\n",
       "      <th>79000000.0</th>\n",
       "      <td>1.621379e+08</td>\n",
       "      <td>7.040871e+08</td>\n",
       "      <td>-5.326401</td>\n",
       "      <td>9.578578</td>\n",
       "      <td>180.050578</td>\n",
       "    </tr>\n",
       "    <tr>\n",
       "      <th>80000000.0</th>\n",
       "      <td>1.567917e+08</td>\n",
       "      <td>7.135786e+08</td>\n",
       "      <td>-5.365495</td>\n",
       "      <td>9.404824</td>\n",
       "      <td>179.050619</td>\n",
       "    </tr>\n",
       "    <tr>\n",
       "      <th>81000000.0</th>\n",
       "      <td>1.514077e+08</td>\n",
       "      <td>7.228977e+08</td>\n",
       "      <td>-5.402212</td>\n",
       "      <td>9.233710</td>\n",
       "      <td>178.079692</td>\n",
       "    </tr>\n",
       "    <tr>\n",
       "      <th>82000000.0</th>\n",
       "      <td>1.459880e+08</td>\n",
       "      <td>7.320469e+08</td>\n",
       "      <td>-5.436667</td>\n",
       "      <td>9.065165</td>\n",
       "      <td>177.136661</td>\n",
       "    </tr>\n",
       "    <tr>\n",
       "      <th>83000000.0</th>\n",
       "      <td>1.405351e+08</td>\n",
       "      <td>7.410288e+08</td>\n",
       "      <td>-5.468968</td>\n",
       "      <td>8.899114</td>\n",
       "      <td>176.220451</td>\n",
       "    </tr>\n",
       "    <tr>\n",
       "      <th>84000000.0</th>\n",
       "      <td>1.350508e+08</td>\n",
       "      <td>7.498459e+08</td>\n",
       "      <td>-5.499218</td>\n",
       "      <td>8.735489</td>\n",
       "      <td>175.330043</td>\n",
       "    </tr>\n",
       "    <tr>\n",
       "      <th>85000000.0</th>\n",
       "      <td>1.295373e+08</td>\n",
       "      <td>7.585006e+08</td>\n",
       "      <td>-5.527510</td>\n",
       "      <td>8.574221</td>\n",
       "      <td>174.464470</td>\n",
       "    </tr>\n",
       "    <tr>\n",
       "      <th>86000000.0</th>\n",
       "      <td>1.239964e+08</td>\n",
       "      <td>7.669951e+08</td>\n",
       "      <td>-5.553935</td>\n",
       "      <td>8.415243</td>\n",
       "      <td>173.622815</td>\n",
       "    </tr>\n",
       "    <tr>\n",
       "      <th>87000000.0</th>\n",
       "      <td>1.184300e+08</td>\n",
       "      <td>7.753318e+08</td>\n",
       "      <td>-5.578576</td>\n",
       "      <td>8.258491</td>\n",
       "      <td>172.804207</td>\n",
       "    </tr>\n",
       "    <tr>\n",
       "      <th>88000000.0</th>\n",
       "      <td>1.128398e+08</td>\n",
       "      <td>7.835128e+08</td>\n",
       "      <td>-5.601513</td>\n",
       "      <td>8.103903</td>\n",
       "      <td>172.007818</td>\n",
       "    </tr>\n",
       "    <tr>\n",
       "      <th>89000000.0</th>\n",
       "      <td>1.072275e+08</td>\n",
       "      <td>7.915403e+08</td>\n",
       "      <td>-5.622821</td>\n",
       "      <td>7.951417</td>\n",
       "      <td>171.232862</td>\n",
       "    </tr>\n",
       "    <tr>\n",
       "      <th>90000000.0</th>\n",
       "      <td>1.015947e+08</td>\n",
       "      <td>7.994164e+08</td>\n",
       "      <td>-5.642570</td>\n",
       "      <td>7.800975</td>\n",
       "      <td>170.478592</td>\n",
       "    </tr>\n",
       "    <tr>\n",
       "      <th>91000000.0</th>\n",
       "      <td>9.594286e+07</td>\n",
       "      <td>8.071429e+08</td>\n",
       "      <td>-5.660826</td>\n",
       "      <td>7.652519</td>\n",
       "      <td>169.744297</td>\n",
       "    </tr>\n",
       "    <tr>\n",
       "      <th>92000000.0</th>\n",
       "      <td>9.027351e+07</td>\n",
       "      <td>8.147220e+08</td>\n",
       "      <td>-5.677652</td>\n",
       "      <td>7.505995</td>\n",
       "      <td>169.029300</td>\n",
       "    </tr>\n",
       "    <tr>\n",
       "      <th>93000000.0</th>\n",
       "      <td>8.458802e+07</td>\n",
       "      <td>8.221556e+08</td>\n",
       "      <td>-5.693106</td>\n",
       "      <td>7.361347</td>\n",
       "      <td>168.332954</td>\n",
       "    </tr>\n",
       "    <tr>\n",
       "      <th>94000000.0</th>\n",
       "      <td>7.888773e+07</td>\n",
       "      <td>8.294453e+08</td>\n",
       "      <td>-5.707245</td>\n",
       "      <td>7.218526</td>\n",
       "      <td>167.654648</td>\n",
       "    </tr>\n",
       "    <tr>\n",
       "      <th>95000000.0</th>\n",
       "      <td>7.317395e+07</td>\n",
       "      <td>8.365932e+08</td>\n",
       "      <td>-5.720120</td>\n",
       "      <td>7.077479</td>\n",
       "      <td>166.993796</td>\n",
       "    </tr>\n",
       "    <tr>\n",
       "      <th>96000000.0</th>\n",
       "      <td>6.744790e+07</td>\n",
       "      <td>8.436009e+08</td>\n",
       "      <td>-5.731782</td>\n",
       "      <td>6.938158</td>\n",
       "      <td>166.349840</td>\n",
       "    </tr>\n",
       "    <tr>\n",
       "      <th>97000000.0</th>\n",
       "      <td>6.171077e+07</td>\n",
       "      <td>8.504701e+08</td>\n",
       "      <td>-5.742278</td>\n",
       "      <td>6.800516</td>\n",
       "      <td>165.722247</td>\n",
       "    </tr>\n",
       "    <tr>\n",
       "      <th>98000000.0</th>\n",
       "      <td>5.596372e+07</td>\n",
       "      <td>8.572025e+08</td>\n",
       "      <td>-5.751652</td>\n",
       "      <td>6.664508</td>\n",
       "      <td>165.110509</td>\n",
       "    </tr>\n",
       "    <tr>\n",
       "      <th>99000000.0</th>\n",
       "      <td>5.020783e+07</td>\n",
       "      <td>8.637996e+08</td>\n",
       "      <td>-5.759946</td>\n",
       "      <td>6.530088</td>\n",
       "      <td>164.514139</td>\n",
       "    </tr>\n",
       "    <tr>\n",
       "      <th>100000000.0</th>\n",
       "      <td>4.444417e+07</td>\n",
       "      <td>8.702631e+08</td>\n",
       "      <td>-5.767200</td>\n",
       "      <td>6.397214</td>\n",
       "      <td>163.932676</td>\n",
       "    </tr>\n",
       "  </tbody>\n",
       "</table>\n",
       "<p>101 rows × 5 columns</p>\n",
       "</div>"
      ],
      "text/plain": [
       "                        x             y         vx         vy        temp\n",
       "0.0          0.000000e+00 -5.000000e+08  10.606602  10.606602  216.313149\n",
       "1000000.0    1.060549e+07 -4.892391e+08  10.603251  10.916631  218.517468\n",
       "2000000.0    2.120412e+07 -4.781640e+08  10.592753  11.234985  220.951634\n",
       "3000000.0    3.178838e+07 -4.667663e+08  10.574396  11.561740  223.484951\n",
       "4000000.0    4.235003e+07 -4.550377e+08  10.547404  11.896912  226.121676\n",
       "5000000.0    5.288003e+07 -4.429697e+08  10.510936  12.240437  228.865931\n",
       "6000000.0    6.336845e+07 -4.305541e+08  10.464087  12.592156  231.721574\n",
       "7000000.0    7.380442e+07 -4.177827e+08  10.405890  12.951792  234.692031\n",
       "8000000.0    8.417610e+07 -4.046480e+08  10.335320  13.318916  237.780064\n",
       "9000000.0    9.447058e+07 -3.911426e+08  10.251305  13.692924  240.987491\n",
       "10000000.0   1.046739e+08 -3.772601e+08  10.152744  14.073000  244.314809\n",
       "11000000.0   1.147708e+08 -3.629949e+08  10.038529  14.458075  247.760722\n",
       "12000000.0   1.247453e+08 -3.483428e+08   9.907578  14.846791  251.321561\n",
       "13000000.0   1.345801e+08 -3.333007e+08   9.758881  15.237463  254.990553\n",
       "14000000.0   1.442569e+08 -3.178679e+08   9.591556  15.628048  258.756948\n",
       "15000000.0   1.537568e+08 -3.020454e+08   9.404923  16.016120  262.605001\n",
       "16000000.0   1.630602e+08 -2.858374e+08   9.198580  16.398873  266.512811\n",
       "17000000.0   1.721473e+08 -2.692505e+08   8.972491  16.773150  270.451074\n",
       "18000000.0   1.809987e+08 -2.522951e+08   8.727069  17.135508  274.381851\n",
       "19000000.0   1.895953e+08 -2.349847e+08   8.463234  17.482343  278.257477\n",
       "20000000.0   1.979195e+08 -2.173367e+08   8.182433  17.810057  282.019905\n",
       "21000000.0   2.059552e+08 -1.993721e+08   7.886587  18.115280  285.600750\n",
       "22000000.0   2.136884e+08 -1.811147e+08   7.577954  18.395112  288.922419\n",
       "23000000.0   2.211076e+08 -1.625911e+08   7.258890  18.647347  291.900678\n",
       "24000000.0   2.282034e+08 -1.438296e+08   6.931534  18.870623  294.448872\n",
       "25000000.0   2.349685e+08 -1.248596e+08   6.597472  19.064445  296.483705\n",
       "26000000.0   2.413964e+08 -1.057105e+08   6.257466  19.229040  297.932185\n",
       "27000000.0   2.474814e+08 -8.641107e+07   5.911349  19.365075  298.738668\n",
       "28000000.0   2.532168e+08 -6.698960e+07   5.558150  19.473288  298.870909\n",
       "29000000.0   2.585948e+08 -4.747360e+07   5.196453  19.554168  298.323778\n",
       "...                   ...           ...        ...        ...         ...\n",
       "71000000.0   2.032214e+08  6.216100e+08  -4.911463  11.073074  189.254593\n",
       "72000000.0   1.982780e+08  6.325840e+08  -4.974767  10.875352  187.972956\n",
       "73000000.0   1.932731e+08  6.433618e+08  -5.034442  10.680912  186.732103\n",
       "74000000.0   1.882103e+08  6.539469e+08  -5.090685  10.489670  185.530257\n",
       "75000000.0   1.830928e+08  6.643422e+08  -5.143677  10.301545  184.365741\n",
       "76000000.0   1.779239e+08  6.745510e+08  -5.193591  10.116453  183.236972\n",
       "77000000.0   1.727066e+08  6.845761e+08  -5.240585   9.934315  182.142453\n",
       "78000000.0   1.674437e+08  6.944206e+08  -5.284808   9.755049  181.080767\n",
       "79000000.0   1.621379e+08  7.040871e+08  -5.326401   9.578578  180.050578\n",
       "80000000.0   1.567917e+08  7.135786e+08  -5.365495   9.404824  179.050619\n",
       "81000000.0   1.514077e+08  7.228977e+08  -5.402212   9.233710  178.079692\n",
       "82000000.0   1.459880e+08  7.320469e+08  -5.436667   9.065165  177.136661\n",
       "83000000.0   1.405351e+08  7.410288e+08  -5.468968   8.899114  176.220451\n",
       "84000000.0   1.350508e+08  7.498459e+08  -5.499218   8.735489  175.330043\n",
       "85000000.0   1.295373e+08  7.585006e+08  -5.527510   8.574221  174.464470\n",
       "86000000.0   1.239964e+08  7.669951e+08  -5.553935   8.415243  173.622815\n",
       "87000000.0   1.184300e+08  7.753318e+08  -5.578576   8.258491  172.804207\n",
       "88000000.0   1.128398e+08  7.835128e+08  -5.601513   8.103903  172.007818\n",
       "89000000.0   1.072275e+08  7.915403e+08  -5.622821   7.951417  171.232862\n",
       "90000000.0   1.015947e+08  7.994164e+08  -5.642570   7.800975  170.478592\n",
       "91000000.0   9.594286e+07  8.071429e+08  -5.660826   7.652519  169.744297\n",
       "92000000.0   9.027351e+07  8.147220e+08  -5.677652   7.505995  169.029300\n",
       "93000000.0   8.458802e+07  8.221556e+08  -5.693106   7.361347  168.332954\n",
       "94000000.0   7.888773e+07  8.294453e+08  -5.707245   7.218526  167.654648\n",
       "95000000.0   7.317395e+07  8.365932e+08  -5.720120   7.077479  166.993796\n",
       "96000000.0   6.744790e+07  8.436009e+08  -5.731782   6.938158  166.349840\n",
       "97000000.0   6.171077e+07  8.504701e+08  -5.742278   6.800516  165.722247\n",
       "98000000.0   5.596372e+07  8.572025e+08  -5.751652   6.664508  165.110509\n",
       "99000000.0   5.020783e+07  8.637996e+08  -5.759946   6.530088  164.514139\n",
       "100000000.0  4.444417e+07  8.702631e+08  -5.767200   6.397214  163.932676\n",
       "\n",
       "[101 rows x 5 columns]"
      ]
     },
     "execution_count": 1447,
     "metadata": {},
     "output_type": "execute_result"
    }
   ],
   "source": [
    "system.results"
   ]
  },
  {
   "cell_type": "code",
   "execution_count": 1448,
   "metadata": {
    "scrolled": false
   },
   "outputs": [
    {
     "name": "stdout",
     "output_type": "stream",
     "text": [
      "Saving figure to file trajectory_v15_a45.eps\n"
     ]
    },
    {
     "data": {
      "image/png": "[encoded data removed]",
      "text/plain": [
       "<matplotlib.figure.Figure at 0x20bca1f9a20>"
      ]
     },
     "metadata": {},
     "output_type": "display_data"
    }
   ],
   "source": [
    "plot(system.results.x, system.results.y, label=\"Trajectory\")\n",
    "\n",
    "\n",
    "decorate(xlabel='Position (x)',\n",
    "         ylabel='Position (y)')\n",
    "\n",
    "savefig('trajectory_v15_a45.eps', format='eps', dpi=1000, bbox_inches='tight')\n",
    "#plt.axis([-5e8, 5e8, -5e8, 1.2e10])"
   ]
  },
  {
   "cell_type": "code",
   "execution_count": 1449,
   "metadata": {},
   "outputs": [
    {
     "name": "stdout",
     "output_type": "stream",
     "text": [
      "Saving figure to file distance_v15_a45.eps\n",
      "100000000.0\n"
     ]
    },
    {
     "data": {
      "image/png": "[encoded data removed]",
      "text/plain": [
       "<matplotlib.figure.Figure at 0x20bca0a8dd8>"
      ]
     },
     "metadata": {},
     "output_type": "display_data"
    }
   ],
   "source": [
    "magdist= sqrt(system.results.y**2 + system.results.x**2)\n",
    "\n",
    "plot(system.ts, magdist, label= \"Distance from sun\" )\n",
    "decorate(xlabel='Time (s)',\n",
    "         ylabel='Distance (Km)')\n",
    "\n",
    "savefig('distance_v15_a45.eps', format='eps', dpi=1000, bbox_inches='tight')\n",
    "mindist= magdist.argmax()\n",
    "print(mindist)"
   ]
  },
  {
   "cell_type": "code",
   "execution_count": 1451,
   "metadata": {},
   "outputs": [
    {
     "name": "stdout",
     "output_type": "stream",
     "text": [
      "Saving figure to file temp_v15_a45.eps\n"
     ]
    },
    {
     "data": {
      "image/png": "[encoded data removed]",
      "text/plain": [
       "<matplotlib.figure.Figure at 0x20bc82f4c88>"
      ]
     },
     "metadata": {},
     "output_type": "display_data"
    }
   ],
   "source": [
    "plot(system.ts, system.results.temp, label= \"Temperature (Kelvin)\")\n",
    "\n",
    "decorate(xlabel='Time (s)',\n",
    "         ylabel='Temperature (Kelvin)')\n",
    "\n",
    "savefig('temp_v15_a45.eps', format='eps', dpi=1000, bbox_inches='tight')"
   ]
  },
  {
   "cell_type": "code",
   "execution_count": null,
   "metadata": {
    "collapsed": true
   },
   "outputs": [],
   "source": []
  },
  {
   "cell_type": "code",
   "execution_count": 1452,
   "metadata": {
    "scrolled": true
   },
   "outputs": [
    {
     "name": "stdout",
     "output_type": "stream",
     "text": [
      "100000000.0 298.87090901\n"
     ]
    }
   ],
   "source": [
    "min_dist= magdist.argmin()\n",
    "\n",
    "temp= system.results.temp\n",
    "max_temp= temp.max()\n",
    "print(mindist, max_temp)\n",
    "\n"
   ]
  },
  {
   "cell_type": "code",
   "execution_count": 1453,
   "metadata": {},
   "outputs": [
    {
     "data": {
      "text/plain": [
       "225.3432695102166"
      ]
     },
     "execution_count": 1453,
     "metadata": {},
     "output_type": "execute_result"
    }
   ],
   "source": [
    "a = 0\n",
    "for n in system.results.temp:\n",
    "    a = a + n\n",
    "avg_temp = a / len(system.results.temp)  \n",
    "\n",
    "avg_temp"
   ]
  },
  {
   "cell_type": "code",
   "execution_count": 1454,
   "metadata": {},
   "outputs": [
    {
     "name": "stdout",
     "output_type": "stream",
     "text": [
      "6\n",
      "Saving figure to file trajectory_v30_a70.eps\n"
     ]
    },
    {
     "name": "stderr",
     "output_type": "stream",
     "text": [
      "C:\\ProgramData\\Miniconda3\\lib\\site-packages\\matplotlib\\axes\\_axes.py:545: UserWarning: No labelled objects found. Use label='...' kwarg on individual plots.\n",
      "  warnings.warn(\"No labelled objects found. \"\n"
     ]
    },
    {
     "data": {
      "image/png": "[encoded data removed]",
      "text/plain": [
       "<matplotlib.figure.Figure at 0x20bc7d17400>"
      ]
     },
     "metadata": {},
     "output_type": "display_data"
    }
   ],
   "source": [
    "def temp_func(condition):\n",
    "    system= make_system(condition)\n",
    "    run_odeint(system, slope_func)\n",
    "    time_hot= TimeSeries()\n",
    "    for j in system.ts: \n",
    "        if system.results.temp[j]>= 350: \n",
    "            tem= system.results.temp[j]\n",
    "            time_hot[j] = tem\n",
    "    return time_hot\n",
    "\n",
    "test_ang= 45\n",
    "condition.set(velocity=30)\n",
    "condition.set(angle= 70)\n",
    "system= make_system(condition)\n",
    "run_odeint(system, slope_func)\n",
    "plot(system.results.x, system.results.y)\n",
    "\n",
    "yee= temp_func(condition)\n",
    "print(len(yee.index))\n",
    "plt.axis([0, 6e8, -5e8, 1.2e9])\n",
    "\n",
    "decorate(xlabel='Position(x)',\n",
    "         ylabel='Position (y)')\n",
    "\n",
    "savefig('trajectory_v30_a70.eps', format='eps', dpi=1000, bbox_inches='tight')"
   ]
  },
  {
   "cell_type": "code",
   "execution_count": 1455,
   "metadata": {},
   "outputs": [
    {
     "name": "stdout",
     "output_type": "stream",
     "text": [
      "0\n"
     ]
    }
   ],
   "source": [
    "angles= linspace(0, 60, 11)\n",
    "\n",
    "def angle_sweep(angles, condition):\n",
    "    angle_res= SweepSeries()\n",
    "    for ang in angles: \n",
    "        condition.set(angle=ang)\n",
    "        angle_res[ang] = temp_func(condition)\n",
    "    return angle_res\n",
    "\n",
    "sweeptest= angle_sweep(angles, condition)\n",
    "yipe= temp_func(condition)\n",
    "\n",
    "\n",
    "print(len(yipe))"
   ]
  },
  {
   "cell_type": "code",
   "execution_count": 1456,
   "metadata": {},
   "outputs": [],
   "source": [
    "velocity_range= linrange(5, 50, 11)\n",
    "\n",
    "def all_sweep(velocity_range, condition):\n",
    "    final= SweepFrame()\n",
    "    for v in velocity_range: \n",
    "        condition.set(velocity= v)\n",
    "        final[v]= angle_sweep(angles, condition)\n",
    "    return final\n",
    "   \n",
    "\n",
    "yikes= all_sweep(velocity_range, condition) \n",
    "\n"
   ]
  },
  {
   "cell_type": "code",
   "execution_count": 1457,
   "metadata": {
    "collapsed": true
   },
   "outputs": [],
   "source": [
    "def calc_temp_hot(temp):\n",
    "    a = 0\n",
    "    for n in temp:\n",
    "        a = a + n\n",
    "    \n",
    "    if len(temp.index)> 0:\n",
    "        avg_temp = a / len(temp.index)\n",
    "    else: \n",
    "        avg_temp= 300\n",
    "    return avg_temp"
   ]
  },
  {
   "cell_type": "code",
   "execution_count": 1458,
   "metadata": {},
   "outputs": [],
   "source": [
    "#calc_temp(system)"
   ]
  },
  {
   "cell_type": "code",
   "execution_count": 1459,
   "metadata": {
    "collapsed": true
   },
   "outputs": [],
   "source": [
    "velocity = linspace(20, 50, 10)\n",
    "angle = linspace(15, 50, 14)\n",
    "angle_unitless = linspace(15, 80, 14)\n",
    "\n",
    "def sweep_things(angle, velocity):\n",
    "    sweep = SweepFrame(columns=angle_unitless, index=velocity)\n",
    "    for idx, a in enumerate(angle):\n",
    "        condition.set(angle=a)\n",
    "        for v in velocity:\n",
    "            condition.set(velocity=v)\n",
    "            system = make_system(condition)\n",
    "            run_odeint(system, slope_func)\n",
    "            temp = system.results.temp\n",
    "            avg_temp = calc_temp(temp)\n",
    "#            print(avg_temp)\n",
    "#             print(a.magnitude)\n",
    "            sweep[angle_unitless[idx]][v] = avg_temp\n",
    "    return sweep\n",
    "\n"
   ]
  },
  {
   "cell_type": "code",
   "execution_count": 1460,
   "metadata": {
    "collapsed": true
   },
   "outputs": [],
   "source": [
    "def sweep_things2(angle, velocity):\n",
    "    sweep = SweepFrame(columns=angle_unitless, index=velocity)\n",
    "    for idx, a in enumerate(angle):\n",
    "        condition.set(angle=a)\n",
    "        for v in velocity:\n",
    "            condition.set(velocity=v)\n",
    "            \n",
    "            temp = temp_func(condition)\n",
    "            avg_temp = calc_temp_hot(temp)\n",
    "#            print(avg_temp)\n",
    "#             print(a.magnitude)\n",
    "            sweep[angle_unitless[idx]][v] = avg_temp\n",
    "    return sweep\n",
    "velocity = linspace(10, 60, 10)\n",
    "angle = linspace(15, 85, 14)\n",
    "angle_unitless = linspace(15, 85, 14)"
   ]
  },
  {
   "cell_type": "code",
   "execution_count": 1461,
   "metadata": {},
   "outputs": [
    {
     "name": "stderr",
     "output_type": "stream",
     "text": [
      "C:\\ProgramData\\Miniconda3\\lib\\site-packages\\scipy\\integrate\\odepack.py:218: ODEintWarning: Excess work done on this call (perhaps wrong Dfun type). Run with full_output = 1 to get quantitative information.\n",
      "  warnings.warn(warning_msg, ODEintWarning)\n"
     ]
    }
   ],
   "source": [
    "hopefully = sweep_things2(angle, velocity)"
   ]
  },
  {
   "cell_type": "code",
   "execution_count": 1462,
   "metadata": {},
   "outputs": [
    {
     "name": "stdout",
     "output_type": "stream",
     "text": [
      "[[ 300.          300.          300.          354.68304666  375.42716057\n",
      "   395.07886015  418.30184434  446.37076399  474.31670965  486.79678816\n",
      "   506.95068579  511.64192497  519.34645768  536.79048913]\n",
      " [ 300.          300.          300.          300.          300.          300.\n",
      "   300.          300.          380.97822088  420.14102101  463.72289989\n",
      "   499.83526757  517.85894095  553.87885461]\n",
      " [ 300.          300.          300.          300.          300.          300.\n",
      "   300.          300.          300.          366.95480197  409.12136082\n",
      "   456.89867182  512.94304388  482.93720332]\n",
      " [ 300.          300.          300.          300.          300.          300.\n",
      "   300.          300.          300.          300.          377.38955253\n",
      "   438.84901635  495.93195228  505.24730347]\n",
      " [ 300.          300.          300.          300.          300.          300.\n",
      "   300.          300.          300.          300.          357.8582127\n",
      "   404.44249725  488.53028171  563.75583392]\n",
      " [ 300.          300.          300.          300.          300.          300.\n",
      "   300.          300.          300.          300.          300.\n",
      "   393.84048091  447.61202925  526.98154667]\n",
      " [ 300.          300.          300.          300.          300.          300.\n",
      "   300.          300.          300.          300.          300.\n",
      "   382.81805459  454.71683679  540.16595883]\n",
      " [ 300.          300.          300.          300.          300.          300.\n",
      "   300.          300.          300.          300.          300.\n",
      "   377.50070386  435.99219337  563.81491089]\n",
      " [ 300.          300.          300.          300.          300.          300.\n",
      "   300.          300.          300.          300.          300.\n",
      "   369.06390039  421.09042565  503.61369186]\n",
      " [ 300.          300.          300.          300.          300.          300.\n",
      "   300.          300.          300.          300.          300.\n",
      "   367.00040413  422.81221999  515.25862034]]\n"
     ]
    }
   ],
   "source": [
    "x = hopefully.as_matrix()\n",
    "print(x)"
   ]
  },
  {
   "cell_type": "code",
   "execution_count": 1463,
   "metadata": {},
   "outputs": [
    {
     "name": "stdout",
     "output_type": "stream",
     "text": [
      "[ 15.          18.88888889  22.77777778  26.66666667  30.55555556\n",
      "  34.44444444  38.33333333  42.22222222  46.11111111  50.        ]\n",
      "Saving figure to file temp_sweep.eps\n"
     ]
    },
    {
     "name": "stderr",
     "output_type": "stream",
     "text": [
      "C:\\ProgramData\\Miniconda3\\lib\\site-packages\\matplotlib\\axes\\_axes.py:545: UserWarning: No labelled objects found. Use label='...' kwarg on individual plots.\n",
      "  warnings.warn(\"No labelled objects found. \"\n"
     ]
    },
    {
     "data": {
      "image/png": "[encoded data removed]",
      "text/plain": [
       "<matplotlib.figure.Figure at 0x20bc64eca58>"
      ]
     },
     "metadata": {},
     "output_type": "display_data"
    }
   ],
   "source": [
    "fig, ax1 = plt.subplots(1,1)\n",
    "velocity = linspace(15, 50, 10)\n",
    "print(velocity)\n",
    "y = plt.imshow(x)\n",
    "ax1.set_xticklabels(np.around(velocity, decimals=2))\n",
    "ax1.set_yticklabels(np.around(angle_unitless, decimals=2))\n",
    "fig.colorbar(y)\n",
    "\n",
    "decorate(xlabel='Velocity (Km/s)',\n",
    "         ylabel='Angle (Degrees)')\n",
    "\n",
    "savefig('temp_sweep.eps', format='eps', dpi=1000, bbox_inches='tight')"
   ]
  },
  {
   "cell_type": "code",
   "execution_count": null,
   "metadata": {
    "collapsed": true
   },
   "outputs": [],
   "source": []
  },
  {
   "cell_type": "code",
   "execution_count": null,
   "metadata": {
    "collapsed": true
   },
   "outputs": [],
   "source": []
  },
  {
   "cell_type": "code",
   "execution_count": null,
   "metadata": {
    "collapsed": true
   },
   "outputs": [],
   "source": []
  },
  {
   "cell_type": "code",
   "execution_count": null,
   "metadata": {
    "collapsed": true
   },
   "outputs": [],
   "source": []
  }
 ],
 "metadata": {
  "kernelspec": {
   "display_name": "Python 3",
   "language": "python",
   "name": "python3"
  },
  "language_info": {
   "codemirror_mode": {
    "name": "ipython",
    "version": 3
   },
   "file_extension": ".py",
   "mimetype": "text/x-python",
   "name": "python",
   "nbconvert_exporter": "python",
   "pygments_lexer": "ipython3",
   "version": "3.6.1"
  }
 },
 "nbformat": 4,
 "nbformat_minor": 2
}
