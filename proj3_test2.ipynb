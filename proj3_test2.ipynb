{
 "cells": [
  {
   "cell_type": "code",
   "execution_count": 334,
   "metadata": {
    "collapsed": true
   },
   "outputs": [],
   "source": [
    "from modsim import *\n",
    "%matplotlib inline\n",
    "import matplotlib.pyplot as plt\n"
   ]
  },
  {
   "cell_type": "markdown",
   "metadata": {},
   "source": [
    "http://www.pveducation.org/pvcdrom/2-properties-sunlight/solar-radiation-space"
   ]
  },
  {
   "cell_type": "code",
   "execution_count": 358,
   "metadata": {
    "collapsed": true
   },
   "outputs": [],
   "source": [
    "degrees= UNITS.degrees"
   ]
  },
  {
   "cell_type": "code",
   "execution_count": 414,
   "metadata": {},
   "outputs": [
    {
     "data": {
      "text/plain": [
       "1327259700000.0"
      ]
     },
     "execution_count": 414,
     "metadata": {},
     "output_type": "execute_result"
    }
   ],
   "source": [
    "mkm= 1/1000\n",
    "\n",
    "mass_sun= 1.989e30 \n",
    "G= 6.673e-11 * mkm**3\n",
    "mass_toast= 10\n",
    "S_B_const= 5.67e-8\n",
    "temp_S= 5772 \n",
    "area_t= .01 *mkm**2\n",
    "r_s= 695770 *1000 *mkm\n",
    "Pow_s= 3.9e26 \n",
    "Q_b= .008/273 \n",
    "\n",
    "\n",
    "\n",
    "\n",
    "num_G = G* mass_sun *mass_toast   \n",
    "\n",
    "num_G\n",
    "\n",
    "\n",
    " \n",
    "\n",
    "#I think these are all the equations and constants we need. I found a specific heat for bread that was in kg and C, \n",
    "#which I think I converted into Kelvin but it's a bit sketchy. I'm also not sure about the area of the sunward facing \n",
    "#toast side, but we can look back at that. "
   ]
  },
  {
   "cell_type": "code",
   "execution_count": 506,
   "metadata": {},
   "outputs": [],
   "source": [
    "\n",
    "condition= Condition(x0= 0, y0= -1e14, velocity= .14, angle = 40*degrees, duration=5e8, T0= 0 )"
   ]
  },
  {
   "cell_type": "code",
   "execution_count": 507,
   "metadata": {
    "collapsed": true
   },
   "outputs": [],
   "source": [
    "#I'm not sure I'm doing this right, I'm mostly copying this from chapter 10 with the intro to vectors and the baseball. \n",
    "\n",
    "def make_system(condition):\n",
    "    unpack(condition)\n",
    "    \n",
    "    theta = np.deg2rad(angle)\n",
    "    \n",
    "    \n",
    "    \n",
    "    vx, vy = pol2cart(theta, velocity)\n",
    "    \n",
    "    init= State(x=x0, y=y0, vx= vx, vy= vy)\n",
    "    area_toast = area_t \n",
    "    \n",
    "    ts= linspace(0, duration, 1000)\n",
    "    \n",
    "    return System(init= init, mass= mass_toast, area_t= area_t, T= T0, Q_b= Q_b, ts= ts)\n",
    "\n",
    "system= make_system(condition) \n",
    "\n"
   ]
  },
  {
   "cell_type": "code",
   "execution_count": 508,
   "metadata": {},
   "outputs": [
    {
     "data": {
      "text/plain": [
       "(<Quantity(0.10724622203665693, 'dimensionless')>,\n",
       " <Quantity(0.0899902653561155, 'dimensionless')>,\n",
       " <Quantity(1.2335194639388569e-17, 'dimensionless')>,\n",
       " <Quantity(0.0013272597000000001, 'dimensionless')>)"
      ]
     },
     "execution_count": 508,
     "metadata": {},
     "output_type": "execute_result"
    }
   ],
   "source": [
    "def slope_func(state, t, system):\n",
    "    x, y, vx, vy = state\n",
    "    \n",
    "    unpack(system)\n",
    "    P= Vector(-x, -y) \n",
    "    V= Vector(vx, vy) \n",
    "    Tangent_dir= Vector(-y, x)\n",
    "    tan_dir= Tangent_dir.hat()\n",
    "    w= V.proj(tan_dir) \n",
    "    xdir= -x/sqrt(x**2+y**2)\n",
    "    ydir= -y/sqrt(x**2+y**2)\n",
    "    \n",
    "    \n",
    "    wx= w.x\n",
    "    wy= w.y\n",
    "    \n",
    "    \n",
    "\n",
    "    F_grav= (G* mass_sun *mass_toast/ (sqrt(x**2+y**2)))  \n",
    "    \n",
    "    \n",
    "    a_grav= Vector(xdir, ydir) *((F_grav)/mass_toast) \n",
    "    a_cent= Vector(wx, wy) * ((wx**2+wy**2) / (sqrt(x**2+y**2)))  \n",
    "    #print(a_cent, a_grav)\n",
    "    \n",
    "    ax= a_grav.x + a_cent.x\n",
    "    ay= a_grav.y + a_cent.y\n",
    "    \n",
    "    a= Vector(ax, ay)\n",
    "\n",
    "    \n",
    "    \n",
    "    rad_on_toast= t * Pow_s * r_s**2/ P.mag**2 \n",
    "    temp_toast= rad_on_toast/ Q_b / mass_toast \n",
    "    \n",
    "    \n",
    "    return vx, vy, ax, ay\n",
    "    \n",
    "    \n",
    "    \n",
    "slope_func(system.init,1,system)\n",
    "    "
   ]
  },
  {
   "cell_type": "code",
   "execution_count": 509,
   "metadata": {},
   "outputs": [
    {
     "name": "stderr",
     "output_type": "stream",
     "text": [
      "C:\\ProgramData\\Miniconda3\\lib\\site-packages\\scipy\\integrate\\odepack.py:218: ODEintWarning: Excess work done on this call (perhaps wrong Dfun type). Run with full_output = 1 to get quantitative information.\n",
      "  warnings.warn(warning_msg, ODEintWarning)\n"
     ]
    }
   ],
   "source": [
    "\n",
    "run_odeint(system, slope_func)"
   ]
  },
  {
   "cell_type": "code",
   "execution_count": 510,
   "metadata": {
    "scrolled": true
   },
   "outputs": [
    {
     "data": {
      "text/plain": [
       "<bound method NDFrame.head of                           x              y             vx             vy\n",
       "0.000000e+00   0.000000e+00  -1.000000e+14   1.072462e-01   8.999027e-02\n",
       "5.005005e+05   5.367676e+04  -9.999983e+13   1.072460e-01   6.643845e+02\n",
       "1.001001e+06   1.073533e+05  -9.999933e+13   1.072455e-01   1.328681e+03\n",
       "1.501502e+06   1.610296e+05  -9.999850e+13   1.072446e-01   1.992982e+03\n",
       "2.002002e+06   2.147052e+05  -9.999734e+13   1.072434e-01   2.657290e+03\n",
       "2.502503e+06   2.683802e+05  -9.999584e+13   1.072418e-01   3.321607e+03\n",
       "3.003003e+06   3.220543e+05  -9.999401e+13   1.072398e-01   3.985934e+03\n",
       "3.503504e+06   3.757273e+05  -9.999185e+13   1.072375e-01   4.650275e+03\n",
       "4.004004e+06   4.293991e+05  -9.998936e+13   1.072348e-01   5.314632e+03\n",
       "4.504505e+06   4.830694e+05  -9.998653e+13   1.072318e-01   5.979006e+03\n",
       "5.005005e+06   5.367381e+05  -9.998337e+13   1.072284e-01   6.643400e+03\n",
       "5.505506e+06   5.904051e+05  -9.997988e+13   1.072246e-01   7.307816e+03\n",
       "6.006006e+06   6.440700e+05  -9.997606e+13   1.072205e-01   7.972256e+03\n",
       "6.506507e+06   6.977329e+05  -9.997190e+13   1.072161e-01   8.636723e+03\n",
       "7.007007e+06   7.513934e+05  -9.996741e+13   1.072113e-01   9.301218e+03\n",
       "7.507508e+06   8.050514e+05  -9.996259e+13   1.072061e-01   9.965745e+03\n",
       "8.008008e+06   8.587067e+05  -9.995744e+13   1.072006e-01   1.063030e+04\n",
       "8.508509e+06   9.123592e+05  -9.995195e+13   1.071947e-01   1.129490e+04\n",
       "9.009009e+06   9.660087e+05  -9.994613e+13   1.071884e-01   1.195953e+04\n",
       "9.509510e+06   1.019655e+06  -9.993998e+13   1.071818e-01   1.262420e+04\n",
       "1.001001e+07   1.073298e+06  -9.993350e+13   1.071749e-01   1.328892e+04\n",
       "1.051051e+07   1.126937e+06  -9.992668e+13   1.071675e-01   1.395368e+04\n",
       "1.101101e+07   1.180572e+06  -9.991953e+13   1.071599e-01   1.461848e+04\n",
       "1.151151e+07   1.234204e+06  -9.991204e+13   1.071518e-01   1.528334e+04\n",
       "1.201201e+07   1.287832e+06  -9.990423e+13   1.071434e-01   1.594824e+04\n",
       "1.251251e+07   1.341455e+06  -9.989608e+13   1.071347e-01   1.661320e+04\n",
       "1.301301e+07   1.395073e+06  -9.988760e+13   1.071256e-01   1.727821e+04\n",
       "1.351351e+07   1.448687e+06  -9.987878e+13   1.071161e-01   1.794328e+04\n",
       "1.401401e+07   1.502297e+06  -9.986964e+13   1.071063e-01   1.860841e+04\n",
       "1.451451e+07   1.555901e+06  -9.986016e+13   1.070961e-01   1.927361e+04\n",
       "...                     ...            ...            ...            ...\n",
       "4.854855e+08  1.134705e-311  1.134707e-311  1.134707e-311  1.134706e-311\n",
       "4.859860e+08  1.134705e-311  1.134706e-311  1.134706e-311  1.134707e-311\n",
       "4.864865e+08  1.134707e-311  1.134708e-311  1.134706e-311  1.134705e-311\n",
       "4.869870e+08  1.134705e-311  1.134706e-311  1.134706e-311  1.134706e-311\n",
       "4.874875e+08  1.134707e-311  1.134707e-311  1.134706e-311  1.134705e-311\n",
       "4.879880e+08  1.134706e-311  1.134706e-311  1.134707e-311  1.134707e-311\n",
       "4.884885e+08  1.134708e-311  1.134706e-311  1.134705e-311  1.134705e-311\n",
       "4.889890e+08  1.134706e-311  1.134706e-311  1.134706e-311  1.134707e-311\n",
       "4.894895e+08  1.134707e-311  1.134706e-311  1.134705e-311  1.134706e-311\n",
       "4.899900e+08  1.134706e-311  1.134707e-311  1.134707e-311  1.134708e-311\n",
       "4.904905e+08  1.134705e-311  1.134705e-311  1.134705e-311  1.134706e-311\n",
       "4.909910e+08  1.134706e-311  1.134706e-311  1.134707e-311  1.134707e-311\n",
       "4.914915e+08  1.134706e-311  1.134705e-311  1.134706e-311  1.134706e-311\n",
       "4.919920e+08  1.134707e-311  1.134707e-311  1.134708e-311  1.134705e-311\n",
       "4.924925e+08  1.134705e-311  1.134705e-311  1.134706e-311  1.134706e-311\n",
       "4.929930e+08  1.134706e-311  1.134705e-311  1.134707e-311  1.134705e-311\n",
       "4.934935e+08  1.134708e-311  1.134705e-311  1.134707e-311  1.134708e-311\n",
       "4.939940e+08  1.134705e-311  1.134706e-311  1.134705e-311  1.134708e-311\n",
       "4.944945e+08  1.134708e-311  1.134705e-311  1.134707e-311  1.134707e-311\n",
       "4.949950e+08  1.134706e-311  1.134705e-311  1.134706e-311  1.134706e-311\n",
       "4.954955e+08  1.134707e-311  1.134707e-311  1.134708e-311  1.134705e-311\n",
       "4.959960e+08  1.134705e-311  1.134705e-311  1.134706e-311  1.134706e-311\n",
       "4.964965e+08  1.134706e-311  1.134707e-311  1.134707e-311  1.134706e-311\n",
       "4.969970e+08  1.134705e-311  1.134706e-311  1.134706e-311  1.134707e-311\n",
       "4.974975e+08  1.134707e-311  1.134708e-311  1.134707e-311  1.134705e-311\n",
       "4.979980e+08  1.134705e-311  1.134706e-311  1.134706e-311  1.134706e-311\n",
       "4.984985e+08  1.134707e-311  1.134707e-311  1.134706e-311  1.134705e-311\n",
       "4.989990e+08  1.134706e-311  1.134706e-311  1.134707e-311  1.134707e-311\n",
       "4.994995e+08  1.134708e-311  1.134707e-311  1.134705e-311  1.134705e-311\n",
       "5.000000e+08  1.134706e-311  1.134706e-311  1.134706e-311  1.134707e-311\n",
       "\n",
       "[1000 rows x 4 columns]>"
      ]
     },
     "execution_count": 510,
     "metadata": {},
     "output_type": "execute_result"
    }
   ],
   "source": [
    "system.results.head"
   ]
  },
  {
   "cell_type": "code",
   "execution_count": 511,
   "metadata": {
    "scrolled": true
   },
   "outputs": [
    {
     "data": {
      "image/png": "[encoded data removed]",
      "text/plain": [
       "<matplotlib.figure.Figure at 0x216d6ac8320>"
      ]
     },
     "metadata": {},
     "output_type": "display_data"
    }
   ],
   "source": [
    "plot(system.results.x, system.results.y, \"bo\")\n",
    "#plt.axis([-6e6, 6e6, -1.2e10, 1e10])"
   ]
  },
  {
   "cell_type": "code",
   "execution_count": null,
   "metadata": {
    "collapsed": true
   },
   "outputs": [],
   "source": []
  },
  {
   "cell_type": "code",
   "execution_count": 512,
   "metadata": {
    "scrolled": true
   },
   "outputs": [
    {
     "data": {
      "text/html": [
       "[ -0. -10.] dimensionless"
      ],
      "text/latex": [
       "$[ -0. -10.] dimensionless$"
      ],
      "text/plain": [
       "<Quantity([ -0. -10.], 'dimensionless')>"
      ]
     },
     "execution_count": 512,
     "metadata": {},
     "output_type": "execute_result"
    }
   ],
   "source": [
    "A= Vector(20, -10) \n",
    "\n",
    "B= Vector(0, 5)\n",
    "\n",
    "A.proj(B)\n",
    "\n",
    "C= 12*A.hat()\n",
    "\n",
    "A.proj(B.hat())"
   ]
  },
  {
   "cell_type": "code",
   "execution_count": null,
   "metadata": {
    "collapsed": true
   },
   "outputs": [],
   "source": []
  },
  {
   "cell_type": "code",
   "execution_count": null,
   "metadata": {
    "collapsed": true
   },
   "outputs": [],
   "source": []
  }
 ],
 "metadata": {
  "kernelspec": {
   "display_name": "Python 3",
   "language": "python",
   "name": "python3"
  },
  "language_info": {
   "codemirror_mode": {
    "name": "ipython",
    "version": 3
   },
   "file_extension": ".py",
   "mimetype": "text/x-python",
   "name": "python",
   "nbconvert_exporter": "python",
   "pygments_lexer": "ipython3",
   "version": "3.6.1"
  }
 },
 "nbformat": 4,
 "nbformat_minor": 2
}
